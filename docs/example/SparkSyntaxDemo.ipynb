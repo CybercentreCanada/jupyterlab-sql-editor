{
 "cells": [
  {
   "cell_type": "markdown",
   "id": "2eba0bf1",
   "metadata": {},
   "source": [
    "# Spark Syntax Demo"
   ]
  },
  {
   "cell_type": "code",
   "execution_count": null,
   "id": "09e975dc",
   "metadata": {},
   "outputs": [],
   "source": [
    "%%sparksql --dataframe df -c --eager -v MY_VIEW --limit 12 -f adir/out.json -t 60\n",
    "-- cell magic\n",
    "SELECT *\n",
    "FROM student AS cellmagic\n"
   ]
  },
  {
   "cell_type": "code",
   "execution_count": null,
   "id": "bc5ca615",
   "metadata": {},
   "outputs": [],
   "source": [
    "%sparksql -d df SELECT * from student where x=1\n"
   ]
  },
  {
   "cell_type": "code",
   "execution_count": null,
   "id": "dc2339aa",
   "metadata": {},
   "outputs": [],
   "source": [
    "%sparksql --dataframe df -c --eager -v MY_VIEW --limit 12 -f adir/out.json -t 60 SELECT * from student -- line magic using no argument options like --eager\n"
   ]
  },
  {
   "cell_type": "code",
   "execution_count": null,
   "id": "dead937c",
   "metadata": {},
   "outputs": [],
   "source": [
    "\n",
    "%sparksql SELECT * FROM tab WHERE x = 1\n",
    "\n",
    "\n",
    "# select is not be highlighted anymore, but it does require a blank line (line 3 above)\n",
    "%sparksql  --cache   SELECT * FROM tab WHERE x = 2\n",
    "\n",
    "%sparksql --cache SELECT * FROM tab WHERE x = 3\n"
   ]
  },
  {
   "cell_type": "code",
   "execution_count": null,
   "id": "5b0b7b32",
   "metadata": {},
   "outputs": [],
   "source": [
    "# mix python and SQL\n",
    "\n",
    "# python import\n",
    "import pyspark\n",
    "\n",
    "%sparksql SELECT s.age FROM student AS linemagic1 -- line magic in a mix cell\n",
    "\n",
    "%sparksql SELECT s.age FROM student AS linemagic2 -- another line magic in a mix cell\n",
    "\n",
    "# a python string with SQL within it\n",
    "sql = '''\n",
    "--start-sparksql anything here is ignored and is not included in the SQL statement for LSP\n",
    "select s.age from student as frompythonstring\n",
    "--end-sparksql\n",
    "'''\n",
    "\n",
    "# back to python\n",
    "print(sql)\n",
    "\n",
    "spark.sql(sql).show()\n"
   ]
  }
 ],
 "metadata": {
  "kernelspec": {
   "display_name": "Python 3 (ipykernel)",
   "language": "python",
   "name": "python3"
  },
  "language_info": {
   "codemirror_mode": {
    "name": "ipython",
    "version": 3
   },
   "file_extension": ".py",
   "mimetype": "text/x-python",
   "name": "python",
   "nbconvert_exporter": "python",
   "pygments_lexer": "ipython3",
   "version": "3.8.0"
  }
 },
 "nbformat": 4,
 "nbformat_minor": 5
}
