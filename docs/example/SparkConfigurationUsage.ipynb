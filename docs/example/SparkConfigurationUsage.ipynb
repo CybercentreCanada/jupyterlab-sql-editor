{
 "cells": [
  {
   "cell_type": "markdown",
   "id": "c9b06840",
   "metadata": {},
   "source": [
    "# Configuration and Usage"
   ]
  },
  {
   "cell_type": "code",
   "execution_count": 1,
   "id": "64b7c645",
   "metadata": {
    "execution": {
     "iopub.execute_input": "2022-01-25T17:38:19.612867Z",
     "iopub.status.busy": "2022-01-25T17:38:19.612601Z",
     "iopub.status.idle": "2022-01-25T17:38:19.728826Z",
     "shell.execute_reply": "2022-01-25T17:38:19.727995Z",
     "shell.execute_reply.started": "2022-01-25T17:38:19.612811Z"
    }
   },
   "outputs": [],
   "source": [
    "from pyspark.sql import SparkSession\n"
   ]
  },
  {
   "cell_type": "code",
   "execution_count": 2,
   "id": "d4a06452",
   "metadata": {
    "execution": {
     "iopub.execute_input": "2022-01-25T17:38:19.730025Z",
     "iopub.status.busy": "2022-01-25T17:38:19.729763Z",
     "iopub.status.idle": "2022-01-25T17:38:22.899499Z",
     "shell.execute_reply": "2022-01-25T17:38:22.898690Z",
     "shell.execute_reply.started": "2022-01-25T17:38:19.730000Z"
    }
   },
   "outputs": [],
   "source": [
    "import ipywidgets as widgets\n",
    "out = widgets.Output()\n",
    "with out:\n",
    "    spark = SparkSession.builder.getOrCreate()\n"
   ]
  },
  {
   "cell_type": "markdown",
   "id": "5fe87250-6936-4de6-bacf-0490a5812516",
   "metadata": {},
   "source": [
    "Normally IPython only displays the output of the last statement. However it can be handy to run multiple sql magics in a single cell and see the output of each execution. Setting `ast_node_interactivity` to `all` will enable that.\n"
   ]
  },
  {
   "cell_type": "code",
   "execution_count": 3,
   "id": "38907ced-2b87-4e5a-b278-3966945a3979",
   "metadata": {
    "execution": {
     "iopub.execute_input": "2022-01-25T17:38:22.902206Z",
     "iopub.status.busy": "2022-01-25T17:38:22.901705Z",
     "iopub.status.idle": "2022-01-25T17:38:22.905901Z",
     "shell.execute_reply": "2022-01-25T17:38:22.905392Z",
     "shell.execute_reply.started": "2022-01-25T17:38:22.902162Z"
    }
   },
   "outputs": [],
   "source": [
    "from IPython.core.interactiveshell import InteractiveShell\n",
    "InteractiveShell.ast_node_interactivity = 'all'\n"
   ]
  },
  {
   "cell_type": "code",
   "execution_count": 4,
   "id": "f27fd6ea",
   "metadata": {
    "execution": {
     "iopub.execute_input": "2022-01-25T17:38:22.907237Z",
     "iopub.status.busy": "2022-01-25T17:38:22.906739Z",
     "iopub.status.idle": "2022-01-25T17:38:23.137931Z",
     "shell.execute_reply": "2022-01-25T17:38:23.137341Z",
     "shell.execute_reply.started": "2022-01-25T17:38:22.907203Z"
    },
    "tags": []
   },
   "outputs": [],
   "source": [
    "%load_ext jupyterlab_sql_editor.ipython_magic.sparksql\n"
   ]
  },
  {
   "cell_type": "code",
   "execution_count": 5,
   "id": "054d2685-5ce9-4be6-8784-e604abc621e0",
   "metadata": {
    "execution": {
     "iopub.execute_input": "2022-01-25T17:38:23.139185Z",
     "iopub.status.busy": "2022-01-25T17:38:23.138894Z",
     "iopub.status.idle": "2022-01-25T17:38:23.154236Z",
     "shell.execute_reply": "2022-01-25T17:38:23.153704Z",
     "shell.execute_reply.started": "2022-01-25T17:38:23.139158Z"
    }
   },
   "outputs": [],
   "source": [
    "%config SparkSql.cacheTTL=3600\n",
    "%config SparkSql.outputFile=\"/tmp/sparkdb.schema.json\"\n"
   ]
  },
  {
   "cell_type": "code",
   "execution_count": 6,
   "id": "3eea8a28-a335-490a-9bdb-b20b8e33d243",
   "metadata": {
    "execution": {
     "iopub.execute_input": "2022-01-25T17:38:23.155462Z",
     "iopub.status.busy": "2022-01-25T17:38:23.155117Z",
     "iopub.status.idle": "2022-01-25T17:38:27.343952Z",
     "shell.execute_reply": "2022-01-25T17:38:27.343187Z",
     "shell.execute_reply.started": "2022-01-25T17:38:23.155438Z"
    },
    "tags": []
   },
   "outputs": [
    {
     "name": "stdout",
     "output_type": "stream",
     "text": [
      "root\n",
      " |-- address: struct (nullable = true)\n",
      " |    |-- city: string (nullable = true)\n",
      " |    |-- postalCode: string (nullable = true)\n",
      " |    |-- state: string (nullable = true)\n",
      " |    |-- streetAddress: string (nullable = true)\n",
      " |-- age: long (nullable = true)\n",
      " |-- first Name: string (nullable = true)\n",
      " |-- last Name: string (nullable = true)\n",
      " |-- phoneNumbers: array (nullable = true)\n",
      " |    |-- element: struct (containsNull = true)\n",
      " |    |    |-- number: string (nullable = true)\n",
      " |    |    |-- type: string (nullable = true)\n",
      "\n"
     ]
    }
   ],
   "source": [
    "df = spark.read.json(\"file:/path/to/contacts.json\")\n",
    "df.createOrReplaceTempView(\"CONTACTS_TABLE\")\n",
    "df.printSchema()\n"
   ]
  },
  {
   "cell_type": "code",
   "execution_count": 7,
   "id": "e0b6ffdf-0124-438a-9c2d-fbaec0731ea7",
   "metadata": {
    "execution": {
     "iopub.execute_input": "2022-01-25T17:38:27.345308Z",
     "iopub.status.busy": "2022-01-25T17:38:27.345122Z",
     "iopub.status.idle": "2022-01-25T17:38:27.533807Z",
     "shell.execute_reply": "2022-01-25T17:38:27.532887Z",
     "shell.execute_reply.started": "2022-01-25T17:38:27.345285Z"
    },
    "tags": []
   },
   "outputs": [
    {
     "name": "stdout",
     "output_type": "stream",
     "text": [
      "root\n",
      " |-- first Name: string (nullable = true)\n",
      " |-- last Name: string (nullable = true)\n",
      " |-- messages: array (nullable = true)\n",
      " |    |-- element: struct (containsNull = true)\n",
      " |    |    |-- body: string (nullable = true)\n",
      " |    |    |-- time: string (nullable = true)\n",
      "\n"
     ]
    }
   ],
   "source": [
    "df = spark.read.json(\"file:/path/to/conversations.json\")\n",
    "df.createOrReplaceTempView(\"MESSAGES_TABLE\")\n",
    "df.printSchema()\n"
   ]
  },
  {
   "cell_type": "code",
   "execution_count": 8,
   "id": "caab565e-36e1-4c7b-8b44-90b44f7211f5",
   "metadata": {
    "execution": {
     "iopub.execute_input": "2022-01-25T17:38:27.535829Z",
     "iopub.status.busy": "2022-01-25T17:38:27.535127Z",
     "iopub.status.idle": "2022-01-25T17:38:32.036136Z",
     "shell.execute_reply": "2022-01-25T17:38:32.035458Z",
     "shell.execute_reply.started": "2022-01-25T17:38:27.535787Z"
    },
    "tags": []
   },
   "outputs": [
    {
     "name": "stdout",
     "output_type": "stream",
     "text": [
      "Exporting functions: [########################################] 100.0%\n",
      "Schema file updated: /tmp/sparkdb.schema.json\n"
     ]
    }
   ],
   "source": [
    "%sparksql --refresh all\n"
   ]
  },
  {
   "cell_type": "code",
   "execution_count": 9,
   "id": "b189e37c-897e-4fe4-b06c-82c99d894381",
   "metadata": {
    "execution": {
     "iopub.execute_input": "2022-01-25T17:38:32.037753Z",
     "iopub.status.busy": "2022-01-25T17:38:32.037288Z",
     "iopub.status.idle": "2022-01-25T17:38:32.329270Z",
     "shell.execute_reply": "2022-01-25T17:38:32.328599Z",
     "shell.execute_reply.started": "2022-01-25T17:38:32.037717Z"
    },
    "tags": []
   },
   "outputs": [
    {
     "data": {
      "application/vnd.jupyter.widget-view+json": {
       "model_id": "e32136070f8e40da88f317cadea9d920",
       "version_major": 2,
       "version_minor": 0
      },
      "text/plain": [
       "SparkSchemaWidget(nodes=(Node(close_icon='angle-down', close_icon_style='danger', icon='project-diagram', icon…"
      ]
     },
     "metadata": {},
     "output_type": "display_data"
    },
    {
     "data": {
      "application/vnd.jupyter.widget-view+json": {
       "model_id": "f93c287b566c48fc8d0ac2fc61ed9db8",
       "version_major": 2,
       "version_minor": 0
      },
      "text/plain": [
       "Output()"
      ]
     },
     "metadata": {},
     "output_type": "display_data"
    },
    {
     "data": {
      "text/html": [
       "<table border='1'>\n",
       "<tr><th>namespace</th><th>tableName</th><th>isTemporary</th></tr>\n",
       "<tr><td></td><td>contacts_table</td><td>true</td></tr>\n",
       "<tr><td></td><td>messages_table</td><td>true</td></tr>\n",
       "</table>\n"
      ],
      "text/plain": [
       "<IPython.core.display.HTML object>"
      ]
     },
     "metadata": {},
     "output_type": "display_data"
    },
    {
     "data": {
      "text/plain": [
       "Execution time: 0.24 seconds"
      ]
     },
     "metadata": {},
     "output_type": "display_data"
    }
   ],
   "source": [
    "%sparksql SHOW TABLES\n"
   ]
  },
  {
   "cell_type": "markdown",
   "id": "0d23afda-9431-4ef9-9439-ab4a1c92a05d",
   "metadata": {},
   "source": [
    "# Press tab to trigger auto completions and Ctrl-Q to format cell"
   ]
  },
  {
   "cell_type": "code",
   "execution_count": 10,
   "id": "3ae4bfa8-316f-4b0c-bd9d-cdae30b3704b",
   "metadata": {
    "execution": {
     "iopub.execute_input": "2022-01-25T17:38:32.330437Z",
     "iopub.status.busy": "2022-01-25T17:38:32.330259Z",
     "iopub.status.idle": "2022-01-25T17:38:34.279044Z",
     "shell.execute_reply": "2022-01-25T17:38:34.278441Z",
     "shell.execute_reply.started": "2022-01-25T17:38:32.330415Z"
    },
    "tags": []
   },
   "outputs": [
    {
     "data": {
      "application/vnd.jupyter.widget-view+json": {
       "model_id": "91433828c9444cfba86c874d02a5e462",
       "version_major": 2,
       "version_minor": 0
      },
      "text/plain": [
       "SparkSchemaWidget(nodes=(Node(close_icon='angle-down', close_icon_style='danger', icon='project-diagram', icon…"
      ]
     },
     "metadata": {},
     "output_type": "display_data"
    },
    {
     "data": {
      "application/vnd.jupyter.widget-view+json": {
       "model_id": "8f4f8fce4b384d9cad7579b74db138b6",
       "version_major": 2,
       "version_minor": 0
      },
      "text/plain": [
       "Output()"
      ]
     },
     "metadata": {},
     "output_type": "display_data"
    },
    {
     "data": {
      "application/vnd.jupyter.widget-view+json": {
       "model_id": "1f3cb87f9f9b4a6285a62548f4ac6a80",
       "version_major": 2,
       "version_minor": 0
      },
      "text/plain": [
       "DataGrid(auto_fit_params={'area': 'all', 'padding': 30, 'numCols': None}, corner_renderer=None, default_render…"
      ]
     },
     "metadata": {},
     "output_type": "display_data"
    },
    {
     "data": {
      "text/plain": [
       "Execution time: 1.86 seconds"
      ]
     },
     "metadata": {},
     "output_type": "display_data"
    }
   ],
   "source": [
    "%%sparksql --output grid --limit 1000\n",
    "SELECT\n",
    "    id,\n",
    "    uuid()\n",
    "FROM\n",
    "    RANGE (1, 1000)\n"
   ]
  },
  {
   "cell_type": "code",
   "execution_count": 11,
   "id": "facc2d4c-b3f9-4026-919c-873aeef71f2f",
   "metadata": {
    "execution": {
     "iopub.execute_input": "2022-01-25T17:38:34.280283Z",
     "iopub.status.busy": "2022-01-25T17:38:34.279903Z",
     "iopub.status.idle": "2022-01-25T17:38:34.562117Z",
     "shell.execute_reply": "2022-01-25T17:38:34.561353Z",
     "shell.execute_reply.started": "2022-01-25T17:38:34.280256Z"
    },
    "tags": []
   },
   "outputs": [
    {
     "data": {
      "application/vnd.jupyter.widget-view+json": {
       "model_id": "8f26b7a3456f4178bb05a1f5d2504566",
       "version_major": 2,
       "version_minor": 0
      },
      "text/plain": [
       "SparkSchemaWidget(nodes=(Node(close_icon='angle-down', close_icon_style='danger', icon='project-diagram', icon…"
      ]
     },
     "metadata": {},
     "output_type": "display_data"
    },
    {
     "data": {
      "application/vnd.jupyter.widget-view+json": {
       "model_id": "5bad78be7bfe4eb68a8008108ddf2155",
       "version_major": 2,
       "version_minor": 0
      },
      "text/plain": [
       "Output()"
      ]
     },
     "metadata": {},
     "output_type": "display_data"
    },
    {
     "data": {
      "text/html": [
       "<table border='1'>\n",
       "<tr><th>first Name</th><th>primary_number</th><th>flag</th></tr>\n",
       "<tr><td>Rack</td><td>home</td><td>true</td></tr>\n",
       "</table>\n"
      ],
      "text/plain": [
       "<IPython.core.display.HTML object>"
      ]
     },
     "metadata": {},
     "output_type": "display_data"
    },
    {
     "data": {
      "text/plain": [
       "Execution time: 0.19 seconds"
      ]
     },
     "metadata": {},
     "output_type": "display_data"
    }
   ],
   "source": [
    "%%sparksql --output html --limit 3\n",
    "\n",
    "SELECT\n",
    "    con.`first Name`,\n",
    "    con.phoneNumbers [ 0 ].type as primary_number,\n",
    "    array_contains(con.phoneNumbers.type, 'home') as flag\n",
    "FROM\n",
    "    contacts_table AS con\n"
   ]
  },
  {
   "cell_type": "code",
   "execution_count": 12,
   "id": "02b79722-aa71-4820-83ee-517150958c29",
   "metadata": {
    "execution": {
     "iopub.execute_input": "2022-01-25T17:38:34.565349Z",
     "iopub.status.busy": "2022-01-25T17:38:34.565027Z",
     "iopub.status.idle": "2022-01-25T17:38:34.824770Z",
     "shell.execute_reply": "2022-01-25T17:38:34.824090Z",
     "shell.execute_reply.started": "2022-01-25T17:38:34.565315Z"
    },
    "tags": []
   },
   "outputs": [
    {
     "data": {
      "application/vnd.jupyter.widget-view+json": {
       "model_id": "cd336ce7d92449dab978df1c389f9e80",
       "version_major": 2,
       "version_minor": 0
      },
      "text/plain": [
       "SparkSchemaWidget(nodes=(Node(close_icon='angle-down', close_icon_style='danger', icon='project-diagram', icon…"
      ]
     },
     "metadata": {},
     "output_type": "display_data"
    },
    {
     "data": {
      "application/vnd.jupyter.widget-view+json": {
       "model_id": "83142c2c7a6c4181b4a4e03986edcf61",
       "version_major": 2,
       "version_minor": 0
      },
      "text/plain": [
       "Output()"
      ]
     },
     "metadata": {},
     "output_type": "display_data"
    },
    {
     "data": {
      "application/json": "",
      "text/plain": [
       "<IPython.core.display.JSON object>"
      ]
     },
     "metadata": {
      "application/json": {
       "expanded": false,
       "root": "root"
      }
     },
     "output_type": "display_data"
    },
    {
     "data": {
      "text/plain": [
       "Execution time: 0.19 seconds"
      ]
     },
     "metadata": {},
     "output_type": "display_data"
    }
   ],
   "source": [
    "%%sparksql --output json --limit 3\n",
    "SELECT\n",
    "    *\n",
    "FROM\n",
    "    contacts_table AS con\n"
   ]
  },
  {
   "cell_type": "code",
   "execution_count": 13,
   "id": "969487b7-247c-46eb-b6e7-281a5ace3e02",
   "metadata": {
    "execution": {
     "iopub.execute_input": "2022-01-25T17:38:34.825997Z",
     "iopub.status.busy": "2022-01-25T17:38:34.825711Z",
     "iopub.status.idle": "2022-01-25T17:38:34.838259Z",
     "shell.execute_reply": "2022-01-25T17:38:34.837478Z",
     "shell.execute_reply.started": "2022-01-25T17:38:34.825965Z"
    },
    "tags": []
   },
   "outputs": [
    {
     "name": "stdout",
     "output_type": "stream",
     "text": [
      "root\n",
      " |-- address: struct (nullable = true)\n",
      " |    |-- city: string (nullable = true)\n",
      " |    |-- postalCode: string (nullable = true)\n",
      " |    |-- state: string (nullable = true)\n",
      " |    |-- streetAddress: string (nullable = true)\n",
      " |-- age: long (nullable = true)\n",
      " |-- first Name: string (nullable = true)\n",
      " |-- last Name: string (nullable = true)\n",
      " |-- phoneNumbers: array (nullable = true)\n",
      " |    |-- element: struct (containsNull = true)\n",
      " |    |    |-- number: string (nullable = true)\n",
      " |    |    |-- type: string (nullable = true)\n",
      "\n"
     ]
    }
   ],
   "source": [
    "%%sparksql --output schema\n",
    "SELECT\n",
    "    *\n",
    "FROM\n",
    "    contacts_table AS con\n"
   ]
  },
  {
   "cell_type": "markdown",
   "id": "07b3ac2f-3750-4c24-84e7-27c61d3a131d",
   "metadata": {},
   "source": [
    "# Efficient query result reuse across cells\n",
    "\n",
    "A popular use-case is about capturing the output of a cell and use it later in another query.  This can be done using a view.  Here are the steps required to create a view and then referencing it \n",
    "vi `sparksql`.\n",
    "\n",
    "## Create a temporary view with the --view option"
   ]
  },
  {
   "cell_type": "code",
   "execution_count": 14,
   "id": "3fdffde3",
   "metadata": {
    "execution": {
     "iopub.execute_input": "2022-01-25T17:38:34.839615Z",
     "iopub.status.busy": "2022-01-25T17:38:34.839316Z",
     "iopub.status.idle": "2022-01-25T17:38:34.867370Z",
     "shell.execute_reply": "2022-01-25T17:38:34.866515Z",
     "shell.execute_reply.started": "2022-01-25T17:38:34.839590Z"
    },
    "tags": []
   },
   "outputs": [
    {
     "name": "stdout",
     "output_type": "stream",
     "text": [
      "Created temporary view `the_exploded_table`\n",
      "Query execution skipped\n"
     ]
    }
   ],
   "source": [
    "%%sparksql --view the_exploded_table --output skip\n",
    "SELECT\n",
    "    *,\n",
    "    explode(con.phoneNumbers) as phoneNumber\n",
    "FROM\n",
    "    contacts_table AS con\n"
   ]
  },
  {
   "cell_type": "code",
   "execution_count": 15,
   "id": "c8263b7d-6d1a-4747-aaa9-89673f2fb8fb",
   "metadata": {
    "execution": {
     "iopub.execute_input": "2022-01-25T17:38:34.868970Z",
     "iopub.status.busy": "2022-01-25T17:38:34.868559Z",
     "iopub.status.idle": "2022-01-25T17:38:34.985447Z",
     "shell.execute_reply": "2022-01-25T17:38:34.984828Z",
     "shell.execute_reply.started": "2022-01-25T17:38:34.868935Z"
    },
    "tags": []
   },
   "outputs": [
    {
     "data": {
      "application/vnd.jupyter.widget-view+json": {
       "model_id": "63a4c623b5b74af894c9dab94c95f462",
       "version_major": 2,
       "version_minor": 0
      },
      "text/plain": [
       "SparkSchemaWidget(nodes=(Node(close_icon='angle-down', close_icon_style='danger', icon='project-diagram', icon…"
      ]
     },
     "metadata": {},
     "output_type": "display_data"
    },
    {
     "data": {
      "application/vnd.jupyter.widget-view+json": {
       "model_id": "5f19ca65195e43d894dae76b3193d575",
       "version_major": 2,
       "version_minor": 0
      },
      "text/plain": [
       "Output()"
      ]
     },
     "metadata": {},
     "output_type": "display_data"
    },
    {
     "data": {
      "text/html": [
       "<table border='1'>\n",
       "<tr><th>namespace</th><th>tableName</th><th>isTemporary</th></tr>\n",
       "<tr><td></td><td>contacts_table</td><td>true</td></tr>\n",
       "<tr><td></td><td>messages_table</td><td>true</td></tr>\n",
       "<tr><td></td><td>the_exploded_table</td><td>true</td></tr>\n",
       "</table>\n"
      ],
      "text/plain": [
       "<IPython.core.display.HTML object>"
      ]
     },
     "metadata": {},
     "output_type": "display_data"
    },
    {
     "data": {
      "text/plain": [
       "Execution time: 0.08 seconds"
      ]
     },
     "metadata": {},
     "output_type": "display_data"
    }
   ],
   "source": [
    "%sparksql SHOW TABLES\n"
   ]
  },
  {
   "cell_type": "markdown",
   "id": "4f145195-e8c9-4771-a4ae-0ffbe479234c",
   "metadata": {},
   "source": [
    "## Use temporary view in subsequent queries with autocomplete suggestions"
   ]
  },
  {
   "cell_type": "code",
   "execution_count": 16,
   "id": "8e5b8ab8-3b53-4653-9894-6ce5ef666a5c",
   "metadata": {
    "execution": {
     "iopub.execute_input": "2022-01-25T17:38:34.986495Z",
     "iopub.status.busy": "2022-01-25T17:38:34.986328Z",
     "iopub.status.idle": "2022-01-25T17:38:35.296097Z",
     "shell.execute_reply": "2022-01-25T17:38:35.295339Z",
     "shell.execute_reply.started": "2022-01-25T17:38:34.986475Z"
    },
    "tags": []
   },
   "outputs": [
    {
     "data": {
      "application/vnd.jupyter.widget-view+json": {
       "model_id": "0fb6bb31165245f783922fac9e478581",
       "version_major": 2,
       "version_minor": 0
      },
      "text/plain": [
       "SparkSchemaWidget(nodes=(Node(close_icon='angle-down', close_icon_style='danger', icon='project-diagram', icon…"
      ]
     },
     "metadata": {},
     "output_type": "display_data"
    },
    {
     "data": {
      "application/vnd.jupyter.widget-view+json": {
       "model_id": "0fe51452e69942608d92e3793e0e257e",
       "version_major": 2,
       "version_minor": 0
      },
      "text/plain": [
       "Output()"
      ]
     },
     "metadata": {},
     "output_type": "display_data"
    },
    {
     "data": {
      "text/html": [
       "<table border='1'>\n",
       "<tr><th>address</th><th>age</th><th>first Name</th><th>last Name</th><th>phoneNumbers</th><th>phoneNumber</th></tr>\n",
       "<tr><td>{San Jone, 394221, CA, 126}</td><td>24</td><td>Rack</td><td>Jackon</td><td>[{7383627627, home}]</td><td>{7383627627, home}</td></tr>\n",
       "</table>\n"
      ],
      "text/plain": [
       "<IPython.core.display.HTML object>"
      ]
     },
     "metadata": {},
     "output_type": "display_data"
    },
    {
     "data": {
      "text/plain": [
       "Execution time: 0.25 seconds"
      ]
     },
     "metadata": {},
     "output_type": "display_data"
    }
   ],
   "source": [
    "%%sparksql\n",
    "SELECT\n",
    "    *\n",
    "FROM\n",
    "    the_exploded_table AS the\n"
   ]
  },
  {
   "cell_type": "code",
   "execution_count": 17,
   "id": "05c5964f-f5c4-438a-a752-bb68bb938416",
   "metadata": {
    "execution": {
     "iopub.execute_input": "2022-01-25T17:38:35.297972Z",
     "iopub.status.busy": "2022-01-25T17:38:35.297465Z",
     "iopub.status.idle": "2022-01-25T17:38:35.444890Z",
     "shell.execute_reply": "2022-01-25T17:38:35.444197Z",
     "shell.execute_reply.started": "2022-01-25T17:38:35.297935Z"
    },
    "tags": []
   },
   "outputs": [
    {
     "data": {
      "application/vnd.jupyter.widget-view+json": {
       "model_id": "e4a817e89121445d9da00e769f9df42b",
       "version_major": 2,
       "version_minor": 0
      },
      "text/plain": [
       "SparkSchemaWidget(nodes=(Node(close_icon='angle-down', close_icon_style='danger', icon='project-diagram', icon…"
      ]
     },
     "metadata": {},
     "output_type": "display_data"
    },
    {
     "data": {
      "application/vnd.jupyter.widget-view+json": {
       "model_id": "827ce76973e7417b80ceff5ebe584400",
       "version_major": 2,
       "version_minor": 0
      },
      "text/plain": [
       "Output()"
      ]
     },
     "metadata": {},
     "output_type": "display_data"
    },
    {
     "data": {
      "text/plain": [
       "+---------------------------+---+----------+---------+--------------------+------------------+\n",
       "|                    address|age|first Name|last Name|        phoneNumbers|       phoneNumber|\n",
       "+---------------------------+---+----------+---------+--------------------+------------------+\n",
       "|{San Jone, 394221, CA, 126}| 24|      Rack|   Jackon|[{7383627627, home}]|{7383627627, home}|\n",
       "+---------------------------+---+----------+---------+--------------------+------------------+"
      ]
     },
     "metadata": {},
     "output_type": "display_data"
    },
    {
     "data": {
      "text/plain": [
       "Execution time: 0.09 seconds"
      ]
     },
     "metadata": {},
     "output_type": "display_data"
    }
   ],
   "source": [
    "%%sparksql --output text\n",
    "SELECT\n",
    "    *\n",
    "FROM\n",
    "    the_exploded_table AS the\n"
   ]
  },
  {
   "cell_type": "code",
   "execution_count": 18,
   "id": "8733498e-9ef0-44b3-89bd-f9ede19ce1c2",
   "metadata": {
    "execution": {
     "iopub.execute_input": "2022-01-25T17:38:35.446038Z",
     "iopub.status.busy": "2022-01-25T17:38:35.445867Z",
     "iopub.status.idle": "2022-01-25T17:38:35.519809Z",
     "shell.execute_reply": "2022-01-25T17:38:35.519100Z",
     "shell.execute_reply.started": "2022-01-25T17:38:35.446018Z"
    },
    "tags": []
   },
   "outputs": [
    {
     "data": {
      "text/html": [
       "<style>pre { line-height: 125%; }\n",
       "td.linenos .normal { color: inherit; background-color: transparent; padding-left: 5px; padding-right: 5px; }\n",
       "span.linenos { color: inherit; background-color: transparent; padding-left: 5px; padding-right: 5px; }\n",
       "td.linenos .special { color: #000000; background-color: #ffffc0; padding-left: 5px; padding-right: 5px; }\n",
       "span.linenos.special { color: #000000; background-color: #ffffc0; padding-left: 5px; padding-right: 5px; }\n",
       ".output_html .hll { background-color: #ffffcc }\n",
       ".output_html { background: #f8f8f8; }\n",
       ".output_html .c { color: #3D7B7B; font-style: italic } /* Comment */\n",
       ".output_html .err { border: 1px solid #FF0000 } /* Error */\n",
       ".output_html .k { color: #008000; font-weight: bold } /* Keyword */\n",
       ".output_html .o { color: #666666 } /* Operator */\n",
       ".output_html .ch { color: #3D7B7B; font-style: italic } /* Comment.Hashbang */\n",
       ".output_html .cm { color: #3D7B7B; font-style: italic } /* Comment.Multiline */\n",
       ".output_html .cp { color: #9C6500 } /* Comment.Preproc */\n",
       ".output_html .cpf { color: #3D7B7B; font-style: italic } /* Comment.PreprocFile */\n",
       ".output_html .c1 { color: #3D7B7B; font-style: italic } /* Comment.Single */\n",
       ".output_html .cs { color: #3D7B7B; font-style: italic } /* Comment.Special */\n",
       ".output_html .gd { color: #A00000 } /* Generic.Deleted */\n",
       ".output_html .ge { font-style: italic } /* Generic.Emph */\n",
       ".output_html .gr { color: #E40000 } /* Generic.Error */\n",
       ".output_html .gh { color: #000080; font-weight: bold } /* Generic.Heading */\n",
       ".output_html .gi { color: #008400 } /* Generic.Inserted */\n",
       ".output_html .go { color: #717171 } /* Generic.Output */\n",
       ".output_html .gp { color: #000080; font-weight: bold } /* Generic.Prompt */\n",
       ".output_html .gs { font-weight: bold } /* Generic.Strong */\n",
       ".output_html .gu { color: #800080; font-weight: bold } /* Generic.Subheading */\n",
       ".output_html .gt { color: #0044DD } /* Generic.Traceback */\n",
       ".output_html .kc { color: #008000; font-weight: bold } /* Keyword.Constant */\n",
       ".output_html .kd { color: #008000; font-weight: bold } /* Keyword.Declaration */\n",
       ".output_html .kn { color: #008000; font-weight: bold } /* Keyword.Namespace */\n",
       ".output_html .kp { color: #008000 } /* Keyword.Pseudo */\n",
       ".output_html .kr { color: #008000; font-weight: bold } /* Keyword.Reserved */\n",
       ".output_html .kt { color: #B00040 } /* Keyword.Type */\n",
       ".output_html .m { color: #666666 } /* Literal.Number */\n",
       ".output_html .s { color: #BA2121 } /* Literal.String */\n",
       ".output_html .na { color: #687822 } /* Name.Attribute */\n",
       ".output_html .nb { color: #008000 } /* Name.Builtin */\n",
       ".output_html .nc { color: #0000FF; font-weight: bold } /* Name.Class */\n",
       ".output_html .no { color: #880000 } /* Name.Constant */\n",
       ".output_html .nd { color: #AA22FF } /* Name.Decorator */\n",
       ".output_html .ni { color: #717171; font-weight: bold } /* Name.Entity */\n",
       ".output_html .ne { color: #CB3F38; font-weight: bold } /* Name.Exception */\n",
       ".output_html .nf { color: #0000FF } /* Name.Function */\n",
       ".output_html .nl { color: #767600 } /* Name.Label */\n",
       ".output_html .nn { color: #0000FF; font-weight: bold } /* Name.Namespace */\n",
       ".output_html .nt { color: #008000; font-weight: bold } /* Name.Tag */\n",
       ".output_html .nv { color: #19177C } /* Name.Variable */\n",
       ".output_html .ow { color: #AA22FF; font-weight: bold } /* Operator.Word */\n",
       ".output_html .w { color: #bbbbbb } /* Text.Whitespace */\n",
       ".output_html .mb { color: #666666 } /* Literal.Number.Bin */\n",
       ".output_html .mf { color: #666666 } /* Literal.Number.Float */\n",
       ".output_html .mh { color: #666666 } /* Literal.Number.Hex */\n",
       ".output_html .mi { color: #666666 } /* Literal.Number.Integer */\n",
       ".output_html .mo { color: #666666 } /* Literal.Number.Oct */\n",
       ".output_html .sa { color: #BA2121 } /* Literal.String.Affix */\n",
       ".output_html .sb { color: #BA2121 } /* Literal.String.Backtick */\n",
       ".output_html .sc { color: #BA2121 } /* Literal.String.Char */\n",
       ".output_html .dl { color: #BA2121 } /* Literal.String.Delimiter */\n",
       ".output_html .sd { color: #BA2121; font-style: italic } /* Literal.String.Doc */\n",
       ".output_html .s2 { color: #BA2121 } /* Literal.String.Double */\n",
       ".output_html .se { color: #AA5D1F; font-weight: bold } /* Literal.String.Escape */\n",
       ".output_html .sh { color: #BA2121 } /* Literal.String.Heredoc */\n",
       ".output_html .si { color: #A45A77; font-weight: bold } /* Literal.String.Interpol */\n",
       ".output_html .sx { color: #008000 } /* Literal.String.Other */\n",
       ".output_html .sr { color: #A45A77 } /* Literal.String.Regex */\n",
       ".output_html .s1 { color: #BA2121 } /* Literal.String.Single */\n",
       ".output_html .ss { color: #19177C } /* Literal.String.Symbol */\n",
       ".output_html .bp { color: #008000 } /* Name.Builtin.Pseudo */\n",
       ".output_html .fm { color: #0000FF } /* Name.Function.Magic */\n",
       ".output_html .vc { color: #19177C } /* Name.Variable.Class */\n",
       ".output_html .vg { color: #19177C } /* Name.Variable.Global */\n",
       ".output_html .vi { color: #19177C } /* Name.Variable.Instance */\n",
       ".output_html .vm { color: #19177C } /* Name.Variable.Magic */\n",
       ".output_html .il { color: #666666 } /* Literal.Number.Integer.Long */\n",
       "pre { line-height: 125%; }\n",
       "td.linenos .normal { color: inherit; background-color: transparent; padding-left: 5px; padding-right: 5px; }\n",
       "span.linenos { color: inherit; background-color: transparent; padding-left: 5px; padding-right: 5px; }\n",
       "td.linenos .special { color: #000000; background-color: #ffffc0; padding-left: 5px; padding-right: 5px; }\n",
       "span.linenos.special { color: #000000; background-color: #ffffc0; padding-left: 5px; padding-right: 5px; }\n",
       ".jp-RenderedHTML .hll { background-color: #ffffcc }\n",
       ".jp-RenderedHTML { background: #f8f8f8; }\n",
       ".jp-RenderedHTML .c { color: #3D7B7B; font-style: italic } /* Comment */\n",
       ".jp-RenderedHTML .err { border: 1px solid #FF0000 } /* Error */\n",
       ".jp-RenderedHTML .k { color: #008000; font-weight: bold } /* Keyword */\n",
       ".jp-RenderedHTML .o { color: #666666 } /* Operator */\n",
       ".jp-RenderedHTML .ch { color: #3D7B7B; font-style: italic } /* Comment.Hashbang */\n",
       ".jp-RenderedHTML .cm { color: #3D7B7B; font-style: italic } /* Comment.Multiline */\n",
       ".jp-RenderedHTML .cp { color: #9C6500 } /* Comment.Preproc */\n",
       ".jp-RenderedHTML .cpf { color: #3D7B7B; font-style: italic } /* Comment.PreprocFile */\n",
       ".jp-RenderedHTML .c1 { color: #3D7B7B; font-style: italic } /* Comment.Single */\n",
       ".jp-RenderedHTML .cs { color: #3D7B7B; font-style: italic } /* Comment.Special */\n",
       ".jp-RenderedHTML .gd { color: #A00000 } /* Generic.Deleted */\n",
       ".jp-RenderedHTML .ge { font-style: italic } /* Generic.Emph */\n",
       ".jp-RenderedHTML .gr { color: #E40000 } /* Generic.Error */\n",
       ".jp-RenderedHTML .gh { color: #000080; font-weight: bold } /* Generic.Heading */\n",
       ".jp-RenderedHTML .gi { color: #008400 } /* Generic.Inserted */\n",
       ".jp-RenderedHTML .go { color: #717171 } /* Generic.Output */\n",
       ".jp-RenderedHTML .gp { color: #000080; font-weight: bold } /* Generic.Prompt */\n",
       ".jp-RenderedHTML .gs { font-weight: bold } /* Generic.Strong */\n",
       ".jp-RenderedHTML .gu { color: #800080; font-weight: bold } /* Generic.Subheading */\n",
       ".jp-RenderedHTML .gt { color: #0044DD } /* Generic.Traceback */\n",
       ".jp-RenderedHTML .kc { color: #008000; font-weight: bold } /* Keyword.Constant */\n",
       ".jp-RenderedHTML .kd { color: #008000; font-weight: bold } /* Keyword.Declaration */\n",
       ".jp-RenderedHTML .kn { color: #008000; font-weight: bold } /* Keyword.Namespace */\n",
       ".jp-RenderedHTML .kp { color: #008000 } /* Keyword.Pseudo */\n",
       ".jp-RenderedHTML .kr { color: #008000; font-weight: bold } /* Keyword.Reserved */\n",
       ".jp-RenderedHTML .kt { color: #B00040 } /* Keyword.Type */\n",
       ".jp-RenderedHTML .m { color: #666666 } /* Literal.Number */\n",
       ".jp-RenderedHTML .s { color: #BA2121 } /* Literal.String */\n",
       ".jp-RenderedHTML .na { color: #687822 } /* Name.Attribute */\n",
       ".jp-RenderedHTML .nb { color: #008000 } /* Name.Builtin */\n",
       ".jp-RenderedHTML .nc { color: #0000FF; font-weight: bold } /* Name.Class */\n",
       ".jp-RenderedHTML .no { color: #880000 } /* Name.Constant */\n",
       ".jp-RenderedHTML .nd { color: #AA22FF } /* Name.Decorator */\n",
       ".jp-RenderedHTML .ni { color: #717171; font-weight: bold } /* Name.Entity */\n",
       ".jp-RenderedHTML .ne { color: #CB3F38; font-weight: bold } /* Name.Exception */\n",
       ".jp-RenderedHTML .nf { color: #0000FF } /* Name.Function */\n",
       ".jp-RenderedHTML .nl { color: #767600 } /* Name.Label */\n",
       ".jp-RenderedHTML .nn { color: #0000FF; font-weight: bold } /* Name.Namespace */\n",
       ".jp-RenderedHTML .nt { color: #008000; font-weight: bold } /* Name.Tag */\n",
       ".jp-RenderedHTML .nv { color: #19177C } /* Name.Variable */\n",
       ".jp-RenderedHTML .ow { color: #AA22FF; font-weight: bold } /* Operator.Word */\n",
       ".jp-RenderedHTML .w { color: #bbbbbb } /* Text.Whitespace */\n",
       ".jp-RenderedHTML .mb { color: #666666 } /* Literal.Number.Bin */\n",
       ".jp-RenderedHTML .mf { color: #666666 } /* Literal.Number.Float */\n",
       ".jp-RenderedHTML .mh { color: #666666 } /* Literal.Number.Hex */\n",
       ".jp-RenderedHTML .mi { color: #666666 } /* Literal.Number.Integer */\n",
       ".jp-RenderedHTML .mo { color: #666666 } /* Literal.Number.Oct */\n",
       ".jp-RenderedHTML .sa { color: #BA2121 } /* Literal.String.Affix */\n",
       ".jp-RenderedHTML .sb { color: #BA2121 } /* Literal.String.Backtick */\n",
       ".jp-RenderedHTML .sc { color: #BA2121 } /* Literal.String.Char */\n",
       ".jp-RenderedHTML .dl { color: #BA2121 } /* Literal.String.Delimiter */\n",
       ".jp-RenderedHTML .sd { color: #BA2121; font-style: italic } /* Literal.String.Doc */\n",
       ".jp-RenderedHTML .s2 { color: #BA2121 } /* Literal.String.Double */\n",
       ".jp-RenderedHTML .se { color: #AA5D1F; font-weight: bold } /* Literal.String.Escape */\n",
       ".jp-RenderedHTML .sh { color: #BA2121 } /* Literal.String.Heredoc */\n",
       ".jp-RenderedHTML .si { color: #A45A77; font-weight: bold } /* Literal.String.Interpol */\n",
       ".jp-RenderedHTML .sx { color: #008000 } /* Literal.String.Other */\n",
       ".jp-RenderedHTML .sr { color: #A45A77 } /* Literal.String.Regex */\n",
       ".jp-RenderedHTML .s1 { color: #BA2121 } /* Literal.String.Single */\n",
       ".jp-RenderedHTML .ss { color: #19177C } /* Literal.String.Symbol */\n",
       ".jp-RenderedHTML .bp { color: #008000 } /* Name.Builtin.Pseudo */\n",
       ".jp-RenderedHTML .fm { color: #0000FF } /* Name.Function.Magic */\n",
       ".jp-RenderedHTML .vc { color: #19177C } /* Name.Variable.Class */\n",
       ".jp-RenderedHTML .vg { color: #19177C } /* Name.Variable.Global */\n",
       ".jp-RenderedHTML .vi { color: #19177C } /* Name.Variable.Instance */\n",
       ".jp-RenderedHTML .vm { color: #19177C } /* Name.Variable.Magic */\n",
       ".jp-RenderedHTML .il { color: #666666 } /* Literal.Number.Integer.Long */</style><div class=\"highlight\"><pre><span></span><span class=\"k\">SELECT</span><span class=\"w\"></span>\n",
       "<span class=\"w\">    </span><span class=\"o\">*</span><span class=\"w\"></span>\n",
       "<span class=\"k\">FROM</span><span class=\"w\"></span>\n",
       "<span class=\"w\">    </span><span class=\"n\">the_exploded_table</span><span class=\"w\"> </span><span class=\"k\">AS</span><span class=\"w\"> </span><span class=\"n\">the</span><span class=\"w\"></span>\n",
       "</pre></div>\n"
      ],
      "text/latex": [
       "\\begin{Verbatim}[commandchars=\\\\\\{\\}]\n",
       "\\PY{k}{SELECT}\n",
       "\\PY{+w}{    }\\PY{o}{*}\n",
       "\\PY{k}{FROM}\n",
       "\\PY{+w}{    }\\PY{n}{the\\PYZus{}exploded\\PYZus{}table}\\PY{+w}{ }\\PY{k}{AS}\\PY{+w}{ }\\PY{n}{the}\n",
       "\\end{Verbatim}\n"
      ],
      "text/plain": [
       "SELECT\n",
       "    *\n",
       "FROM\n",
       "    the_exploded_table AS the"
      ]
     },
     "execution_count": 18,
     "metadata": {},
     "output_type": "execute_result"
    }
   ],
   "source": [
    "%%sparksql --output sql\n",
    "SELECT\n",
    "    *\n",
    "FROM\n",
    "    the_exploded_table AS the\n"
   ]
  },
  {
   "cell_type": "markdown",
   "id": "d2cf1f01-46a4-4709-a366-7ce325cb78aa",
   "metadata": {},
   "source": [
    "# Create a dataframe variable to use in pypark"
   ]
  },
  {
   "cell_type": "code",
   "execution_count": 19,
   "id": "7f132420-5f45-4042-9e54-7e5ad42959f8",
   "metadata": {
    "execution": {
     "iopub.execute_input": "2022-01-25T17:38:35.521513Z",
     "iopub.status.busy": "2022-01-25T17:38:35.521005Z",
     "iopub.status.idle": "2022-01-25T17:38:35.536923Z",
     "shell.execute_reply": "2022-01-25T17:38:35.536335Z",
     "shell.execute_reply.started": "2022-01-25T17:38:35.521474Z"
    },
    "tags": []
   },
   "outputs": [
    {
     "name": "stdout",
     "output_type": "stream",
     "text": [
      "Captured dataframe to local variable `the_exploded_dataframe`\n",
      "Query execution skipped\n"
     ]
    }
   ],
   "source": [
    "%%sparksql --dataframe the_exploded_dataframe --output skip\n",
    "SELECT\n",
    "    *,\n",
    "    explode(con.phoneNumbers) as phoneNumber\n",
    "FROM\n",
    "    contacts_table AS con\n"
   ]
  },
  {
   "cell_type": "markdown",
   "id": "d4d41d75-c54b-4976-b6e4-cc713698897c",
   "metadata": {},
   "source": [
    "# Continue developing your query using dataframe API"
   ]
  },
  {
   "cell_type": "code",
   "execution_count": 20,
   "id": "0b3d20f1",
   "metadata": {
    "execution": {
     "iopub.execute_input": "2022-01-25T17:38:35.538247Z",
     "iopub.status.busy": "2022-01-25T17:38:35.537847Z",
     "iopub.status.idle": "2022-01-25T17:38:35.654869Z",
     "shell.execute_reply": "2022-01-25T17:38:35.654125Z",
     "shell.execute_reply.started": "2022-01-25T17:38:35.538214Z"
    },
    "tags": []
   },
   "outputs": [
    {
     "name": "stdout",
     "output_type": "stream",
     "text": [
      "+------------------+\n",
      "|       phoneNumber|\n",
      "+------------------+\n",
      "|{7383627627, home}|\n",
      "+------------------+\n",
      "\n"
     ]
    }
   ],
   "source": [
    "the_exploded_dataframe.select('phoneNumber').show()\n"
   ]
  },
  {
   "cell_type": "markdown",
   "id": "17b93613-2196-4733-ad38-d7dd60e9d98a",
   "metadata": {},
   "source": [
    "# Edit SQL within python strings\n",
    "## Enjoy the same functionality as a code cell\n",
    "- syntax highlighting\n",
    "- code completion\n",
    "- SQL formatting"
   ]
  },
  {
   "cell_type": "code",
   "execution_count": 27,
   "id": "922cb48c",
   "metadata": {
    "execution": {
     "iopub.execute_input": "2022-01-25T17:48:24.696626Z",
     "iopub.status.busy": "2022-01-25T17:48:24.696087Z",
     "iopub.status.idle": "2022-01-25T17:48:24.700715Z",
     "shell.execute_reply": "2022-01-25T17:48:24.700006Z",
     "shell.execute_reply.started": "2022-01-25T17:48:24.696585Z"
    },
    "tags": []
   },
   "outputs": [
    {
     "name": "stdout",
     "output_type": "stream",
     "text": [
      "\n",
      "--start-sparksql\n",
      "SELECT\n",
      "    *, con.`first Name`\n",
      "    explode(con.phoneNumbers) as phoneNumber\n",
      "FROM\n",
      "    contacts_table AS con\n",
      "--end-sparksql\n",
      "\n"
     ]
    }
   ],
   "source": [
    "# declare a python string\n",
    "sql = '''\n",
    "--start-sparksql\n",
    "SELECT\n",
    "    *, con.`first Name`\n",
    "    explode(con.phoneNumbers) as phoneNumber\n",
    "FROM\n",
    "    contacts_table AS con\n",
    "--end-sparksql\n",
    "'''\n",
    "print(sql)\n"
   ]
  },
  {
   "cell_type": "code",
   "execution_count": null,
   "id": "308d8dab-87ad-4c1e-b166-42c2830189a2",
   "metadata": {},
   "outputs": [],
   "source": [
    "# declare a python string\n",
    "sql = '''\n",
    "--start-sparksql\n",
    "SELECT\n",
    "    *,\n",
    "    explode(con.phoneNumbers) as phoneNumber\n",
    "FROM\n",
    "    contacts_table AS con\n",
    "--end-sparksql\n",
    "'''\n",
    "print(sql)\n"
   ]
  },
  {
   "cell_type": "code",
   "execution_count": 22,
   "id": "a158e7f8",
   "metadata": {
    "execution": {
     "iopub.execute_input": "2022-01-25T17:38:35.662140Z",
     "iopub.status.busy": "2022-01-25T17:38:35.661968Z",
     "iopub.status.idle": "2022-01-25T17:38:35.757095Z",
     "shell.execute_reply": "2022-01-25T17:38:35.756330Z",
     "shell.execute_reply.started": "2022-01-25T17:38:35.662119Z"
    },
    "tags": []
   },
   "outputs": [
    {
     "name": "stdout",
     "output_type": "stream",
     "text": [
      "+--------------------+---+----------+---------+--------------------+------------------+\n",
      "|             address|age|first Name|last Name|        phoneNumbers|       phoneNumber|\n",
      "+--------------------+---+----------+---------+--------------------+------------------+\n",
      "|{San Jone, 394221...| 24|      Rack|   Jackon|[{7383627627, home}]|{7383627627, home}|\n",
      "+--------------------+---+----------+---------+--------------------+------------------+\n",
      "\n"
     ]
    }
   ],
   "source": [
    "spark.sql(sql).show()\n"
   ]
  },
  {
   "cell_type": "code",
   "execution_count": 23,
   "id": "99f22aaf",
   "metadata": {
    "execution": {
     "iopub.execute_input": "2022-01-25T17:38:35.758346Z",
     "iopub.status.busy": "2022-01-25T17:38:35.758089Z",
     "iopub.status.idle": "2022-01-25T17:38:35.763102Z",
     "shell.execute_reply": "2022-01-25T17:38:35.762236Z",
     "shell.execute_reply.started": "2022-01-25T17:38:35.758320Z"
    },
    "tags": []
   },
   "outputs": [
    {
     "data": {
      "text/plain": [
       "\u001b[0;31mDocstring:\u001b[0m\n",
       "::\n",
       "\n",
       "  %sparksql [-l max_rows] [-r all|local|none] [-d name] [-c] [-e]\n",
       "                [-v name] [-o sql|json|html|grid|text|schema|skip|none] [-s]\n",
       "                [-j] [-t max_cell_length]\n",
       "                [sql [sql ...]]\n",
       "\n",
       "Magic that works both as %sparksql and as %%sparksql\n",
       "\n",
       "positional arguments:\n",
       "  sql                   SQL statement to execute\n",
       "\n",
       "optional arguments:\n",
       "  -l max_rows, --limit max_rows\n",
       "                        The maximum number of rows to display. A value of zero\n",
       "                        is equivalent to `--output skip`\n",
       "  -r <all|local|none>, --refresh <all|local|none>\n",
       "                        Force the regeneration of the schema cache file. The\n",
       "                        `local` option will only update tables/views created\n",
       "                        in the local Spark context.\n",
       "  -d name, --dataframe name\n",
       "                        Capture dataframe in a local variable named `name`\n",
       "  -c, --cache           Cache dataframe\n",
       "  -e, --eager           Cache dataframe with eager load\n",
       "  -v name, --view name  Create or replace a temporary view named `name`\n",
       "  -o <sql|json|html|grid|text|schema|skip|none>, --output <sql|json|html|grid|text|schema|skip|none>\n",
       "                        Output format. Defaults to html. The `sql` option\n",
       "                        prints the SQL statement that will be executed (useful\n",
       "                        to test jinja templated statements)\n",
       "  -s, --show-nonprinting\n",
       "                        Replace none printable characters with their ascii\n",
       "                        codes (LF -> )\n",
       "  -j, --jinja           Enable Jinja templating support\n",
       "  -t max_cell_length, --truncate max_cell_length\n",
       "                        Truncate output\n",
       "\u001b[0;31mFile:\u001b[0m      /data/dev/jupyterlab-sql-editor/venv/lib/python3.8/site-packages/jupyterlab_sql_editor/ipython_magic/sparksql/sparksql.py\n"
      ]
     },
     "metadata": {},
     "output_type": "display_data"
    }
   ],
   "source": [
    "%%sparksql?\n"
   ]
  },
  {
   "cell_type": "markdown",
   "id": "f5b010c4-474f-4bdc-b6e2-0d2eefd5b516",
   "metadata": {},
   "source": [
    "# Long running query show progress bar and link to Spark UI"
   ]
  },
  {
   "cell_type": "code",
   "execution_count": 24,
   "id": "12a0797c-3011-4e14-8b2e-b06ca12f2638",
   "metadata": {
    "execution": {
     "iopub.execute_input": "2022-01-25T17:38:35.764451Z",
     "iopub.status.busy": "2022-01-25T17:38:35.764062Z",
     "iopub.status.idle": "2022-01-25T17:38:46.036021Z",
     "shell.execute_reply": "2022-01-25T17:38:46.035444Z",
     "shell.execute_reply.started": "2022-01-25T17:38:35.764425Z"
    },
    "tags": []
   },
   "outputs": [
    {
     "data": {
      "application/vnd.jupyter.widget-view+json": {
       "model_id": "178660790cc5407aadfee0853092d69d",
       "version_major": 2,
       "version_minor": 0
      },
      "text/plain": [
       "SparkSchemaWidget(nodes=(Node(close_icon='angle-down', close_icon_style='danger', icon='project-diagram', icon…"
      ]
     },
     "metadata": {},
     "output_type": "display_data"
    },
    {
     "data": {
      "application/vnd.jupyter.widget-view+json": {
       "model_id": "7248a15c89d740aab710417363b7bc67",
       "version_major": 2,
       "version_minor": 0
      },
      "text/plain": [
       "Output()"
      ]
     },
     "metadata": {},
     "output_type": "display_data"
    },
    {
     "data": {
      "application/vnd.jupyter.widget-view+json": {
       "model_id": "1fe4bb27da15405e81396019d76d61cf",
       "version_major": 2,
       "version_minor": 0
      },
      "text/plain": [
       "DataGrid(auto_fit_params={'area': 'all', 'padding': 30, 'numCols': None}, corner_renderer=None, default_render…"
      ]
     },
     "metadata": {},
     "output_type": "display_data"
    },
    {
     "data": {
      "text/plain": [
       "only showing top 1 row"
      ]
     },
     "metadata": {},
     "output_type": "display_data"
    },
    {
     "data": {
      "text/plain": [
       "Execution time: 10.18 seconds"
      ]
     },
     "metadata": {},
     "output_type": "display_data"
    }
   ],
   "source": [
    "%%sparksql --limit 1 --output grid\n",
    "SELECT\n",
    "    id,\n",
    "    rand() AS f1,\n",
    "    rand() AS f2,\n",
    "    rand() AS f3,\n",
    "    rand() AS f4,\n",
    "    rand() AS f5,\n",
    "    TRANSFORM(SEQUENCE(1, 512), x -> rand()) AS data -- array of 512 floats\n",
    "FROM\n",
    "RANGE\n",
    "    (1, 400000, 1, 100)\n",
    "UNION\n",
    "SELECT\n",
    "    id,\n",
    "    rand() AS f1,\n",
    "    rand() AS f2,\n",
    "    rand() AS f3,\n",
    "    rand() AS f4,\n",
    "    rand() AS f5,\n",
    "    TRANSFORM(SEQUENCE(1, 512), x -> rand()) AS data -- array of 512 floats\n",
    "FROM\n",
    "RANGE\n",
    "    (1, 40000, 1, 100)\n"
   ]
  },
  {
   "cell_type": "code",
   "execution_count": 26,
   "id": "f743af34-db3d-450f-b423-d4ce61c61427",
   "metadata": {
    "execution": {
     "iopub.execute_input": "2022-01-25T17:41:04.746448Z",
     "iopub.status.busy": "2022-01-25T17:41:04.745972Z",
     "iopub.status.idle": "2022-01-25T17:41:04.993818Z",
     "shell.execute_reply": "2022-01-25T17:41:04.993156Z",
     "shell.execute_reply.started": "2022-01-25T17:41:04.746408Z"
    },
    "tags": []
   },
   "outputs": [
    {
     "data": {
      "application/vnd.jupyter.widget-view+json": {
       "model_id": "76420786929c43cb893de1fde626b13a",
       "version_major": 2,
       "version_minor": 0
      },
      "text/plain": [
       "SparkSchemaWidget(nodes=(Node(close_icon='angle-down', close_icon_style='danger', icon='project-diagram', icon…"
      ]
     },
     "metadata": {},
     "output_type": "display_data"
    },
    {
     "data": {
      "application/vnd.jupyter.widget-view+json": {
       "model_id": "4011c7935d3f41b081b31845c567ad32",
       "version_major": 2,
       "version_minor": 0
      },
      "text/plain": [
       "Output()"
      ]
     },
     "metadata": {},
     "output_type": "display_data"
    },
    {
     "data": {
      "text/html": [
       "<table border='1'>\n",
       "<tr><th>first Name</th><th>last Name</th><th>messages</th><th>body</th><th>time</th></tr>\n",
       "<tr><td>Rack</td><td>Jackon</td><td>[{hello, 2022-01-15}, {you there, 2022-01-16}]</td><td>[hello, you there]</td><td>[2022-01-15, 2022-01-16]</td></tr>\n",
       "</table>\n"
      ],
      "text/plain": [
       "<IPython.core.display.HTML object>"
      ]
     },
     "metadata": {},
     "output_type": "display_data"
    },
    {
     "data": {
      "text/plain": [
       "Execution time: 0.15 seconds"
      ]
     },
     "metadata": {},
     "output_type": "display_data"
    }
   ],
   "source": [
    "%%sparksql\n",
    "SELECT\n",
    "    mes.`first Name`,\n",
    "    mes.`last Name`,\n",
    "    mes.messages,\n",
    "    mes.messages.body,\n",
    "    mes.messages.time\n",
    "FROM\n",
    "    contacts_table AS con\n",
    "    INNER JOIN messages_table AS mes ON mes.`first Name` = con.`first Name`\n"
   ]
  }
 ],
 "metadata": {
  "kernelspec": {
   "display_name": "Python 3 (ipykernel)",
   "language": "python",
   "name": "python3"
  },
  "language_info": {
   "codemirror_mode": {
    "name": "ipython",
    "version": 3
   },
   "file_extension": ".py",
   "mimetype": "text/x-python",
   "name": "python",
   "nbconvert_exporter": "python",
   "pygments_lexer": "ipython3",
   "version": "3.8.0"
  }
 },
 "nbformat": 4,
 "nbformat_minor": 5
}
