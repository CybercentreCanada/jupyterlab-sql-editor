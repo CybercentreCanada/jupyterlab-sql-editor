{
 "cells": [
  {
   "cell_type": "code",
   "execution_count": 1,
   "id": "8108c80c-307c-4867-a095-82c65de5a164",
   "metadata": {
    "tags": []
   },
   "outputs": [],
   "source": [
    "from pyspark.sql import SparkSession\n",
    "import ipywidgets as widgets\n",
    "out = widgets.Output()\n",
    "with out:\n",
    "    spark = SparkSession.builder.getOrCreate()"
   ]
  },
  {
   "cell_type": "code",
   "execution_count": 2,
   "id": "56e26164-d27e-41b7-a21f-585c8e0b912f",
   "metadata": {
    "tags": []
   },
   "outputs": [
    {
     "data": {
      "text/plain": [
       "DataFrame[id: bigint, uuid(): string]"
      ]
     },
     "execution_count": 2,
     "metadata": {},
     "output_type": "execute_result"
    }
   ],
   "source": [
    "df = spark.sql(\"SELECT id, uuid() FROM RANGE (1, 1000)\")\n",
    "df"
   ]
  },
  {
   "cell_type": "code",
   "execution_count": 3,
   "id": "126ea2c4-411e-468d-b95d-fb376b55ec73",
   "metadata": {
    "tags": []
   },
   "outputs": [],
   "source": [
    "from jupyterlab_sql_editor.ipython.sparkdf import register_display\n",
    "from jupyterlab_sql_editor.outputters.outputters import _display_results\n",
    "register_display()"
   ]
  },
  {
   "cell_type": "code",
   "execution_count": 4,
   "id": "de6930e0-b1b0-4978-ae67-e47ab852b604",
   "metadata": {
    "tags": []
   },
   "outputs": [
    {
     "data": {
      "application/vnd.jupyter.widget-view+json": {
       "model_id": "79b526fa199e4352ab836c652c377819",
       "version_major": 2,
       "version_minor": 0
      },
      "text/plain": [
       "SparkSchemaWidget(nodes=(Node(close_icon='angle-down', close_icon_style='danger', icon='project-diagram', icon…"
      ]
     },
     "metadata": {},
     "output_type": "display_data"
    },
    {
     "data": {
      "text/html": [
       "<a class=\"external\" href=\"https://some-url\" target=\"_blank\" >Open Spark UI ⭐ pyspark-shell</a>"
      ],
      "text/plain": [
       "<IPython.core.display.HTML object>"
      ]
     },
     "metadata": {},
     "output_type": "display_data"
    },
    {
     "data": {
      "application/vnd.jupyter.widget-view+json": {
       "model_id": "b6972e0f297f4fdcbb9d0e928ee0d6b6",
       "version_major": 2,
       "version_minor": 0
      },
      "text/plain": [
       "DataGrid(auto_fit_params={'area': 'all', 'padding': 30, 'numCols': None}, corner_renderer=None, default_render…"
      ]
     },
     "metadata": {},
     "output_type": "display_data"
    },
    {
     "data": {
      "text/plain": []
     },
     "execution_count": 4,
     "metadata": {},
     "output_type": "execute_result"
    }
   ],
   "source": [
    "# change default display behaviour\n",
    "df = spark.sql(\"SELECT id, uuid() FROM RANGE (1, 1000)\")\n",
    "df"
   ]
  },
  {
   "cell_type": "code",
   "execution_count": 5,
   "id": "aea7225b-e1f4-4910-b932-98eadec93c2d",
   "metadata": {
    "tags": []
   },
   "outputs": [],
   "source": [
    "pdf = df.limit(1).toPandas()"
   ]
  },
  {
   "cell_type": "code",
   "execution_count": 6,
   "id": "8683f968-afda-4646-b343-99aa3dcf77b1",
   "metadata": {
    "tags": []
   },
   "outputs": [
    {
     "data": {
      "text/html": [
       "<table><table border='1'>\n",
       "<tr><th>id</th><th>uuid()</th></tr>\n",
       "<tr><td>1</td><td>9d977b7e-e4b2-4ce5-9f5b-184054f7542d</td></tr>\n",
       "</table>\n",
       "</table>"
      ],
      "text/plain": [
       "<IPython.core.display.HTML object>"
      ]
     },
     "metadata": {},
     "output_type": "display_data"
    }
   ],
   "source": [
    "# _display_results lets you configure the output\n",
    "_display_results(pdf, output=\"html\", show_nonprinting=False)"
   ]
  },
  {
   "cell_type": "code",
   "execution_count": 7,
   "id": "b7ccc1f6-a135-4d75-8d9a-561d057b2b7e",
   "metadata": {
    "tags": []
   },
   "outputs": [
    {
     "name": "stdout",
     "output_type": "stream",
     "text": [
      "+---+------------------------------------+\n",
      "|id |uuid()                              |\n",
      "+---+------------------------------------+\n",
      "|1  |9d977b7e-e4b2-4ce5-9f5b-184054f7542d|\n",
      "+---+------------------------------------+\n",
      "\n"
     ]
    }
   ],
   "source": [
    "_display_results(pdf, output=\"text\")"
   ]
  },
  {
   "cell_type": "code",
   "execution_count": 8,
   "id": "6c5f94b5-4561-4729-a63d-153c0b31e368",
   "metadata": {
    "tags": []
   },
   "outputs": [
    {
     "data": {
      "application/json": "",
      "text/plain": [
       "<IPython.core.display.JSON object>"
      ]
     },
     "metadata": {
      "application/json": {
       "expanded": false,
       "root": "root"
      }
     },
     "output_type": "display_data"
    }
   ],
   "source": [
    "df = spark.read.json(\"file:/path/to/contacts.json\")\n",
    "_display_results(pdf, output=\"json\")"
   ]
  },
  {
   "cell_type": "code",
   "execution_count": null,
   "id": "1447b3e6-955b-4269-bc04-6395a9673036",
   "metadata": {},
   "outputs": [],
   "source": []
  }
 ],
 "metadata": {
  "kernelspec": {
   "display_name": "Python 3 (ipykernel)",
   "language": "python",
   "name": "python3"
  },
  "language_info": {
   "codemirror_mode": {
    "name": "ipython",
    "version": 3
   },
   "file_extension": ".py",
   "mimetype": "text/x-python",
   "name": "python",
   "nbconvert_exporter": "python",
   "pygments_lexer": "ipython3",
   "version": "3.10.12"
  }
 },
 "nbformat": 4,
 "nbformat_minor": 5
}
