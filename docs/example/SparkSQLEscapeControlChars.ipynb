{
 "cells": [
  {
   "cell_type": "code",
   "execution_count": null,
   "id": "5722b02e",
   "metadata": {
    "tags": []
   },
   "outputs": [],
   "source": [
    "from pyspark.sql import SparkSession\n",
    "\n",
    "spark = SparkSession.builder.getOrCreate()\n",
    "\n",
    "%load_ext jupyterlab_sql_editor.ipython_magic.sparksql"
   ]
  },
  {
   "cell_type": "code",
   "execution_count": 2,
   "id": "d8a1c218",
   "metadata": {
    "tags": []
   },
   "outputs": [
    {
     "name": "stdout",
     "output_type": "stream",
     "text": [
      "+------+---+------------+---+---------------+-----------------+-------------------+---------------------+\n",
      "|     a|num|   str_array|tab|backslash_and_t|backslash_and_tab|two_backslash_and_t|two_backslash_and_tab|\n",
      "+------+---+------------+---+---------------+-----------------+-------------------+---------------------+\n",
      "|\n",
      "\t\n",
      "|  1|[\t123, ab\n",
      "c]|  \t|              \t|                \t|                 \\t|                   \\\t|\n",
      "+------+---+------------+---+---------------+-----------------+-------------------+---------------------+\n",
      "\n"
     ]
    }
   ],
   "source": [
    "spark.sql('''\n",
    "--start-sparksql\n",
    "SELECT\n",
    "    '\\r\\t\\b\\n\\t\\n' AS a,\n",
    "    1 AS num,\n",
    "    ARRAY('\\t123', 'ab\\nc') AS str_array,\n",
    "    '\\t' AS tab,\n",
    "    '\\\\t' AS backslash_and_t,\n",
    "    '\\\\\\t' AS backslash_and_tab,\n",
    "    '\\\\\\\\t' AS two_backslash_and_t,\n",
    "    '\\\\\\\\\\t' AS two_backslash_and_tab\n",
    "--end-sparksql\n",
    "''').show()"
   ]
  },
  {
   "cell_type": "code",
   "execution_count": 3,
   "id": "41021efd",
   "metadata": {
    "tags": []
   },
   "outputs": [
    {
     "name": "stdout",
     "output_type": "stream",
     "text": [
      "TTL -1 seconds expired, re-generating schema file: /tmp/sparkdb.schema.json\n",
      "Generating schema file: /tmp/sparkdb.schema.json\n",
      "Schema file updated: /tmp/sparkdb.schema.json\n"
     ]
    },
    {
     "data": {
      "text/html": [
       "<table><tr style=\"border-bottom: 1px solid\"><td style=\"font-weight: bold\">a</td><td style=\"font-weight: bold\">num</td><td style=\"font-weight: bold\">str_array</td><td style=\"font-weight: bold\">tab</td><td style=\"font-weight: bold\">backslash_and_t</td><td style=\"font-weight: bold\">backslash_and_tab</td><td style=\"font-weight: bold\">two_backslash_and_t</td><td style=\"font-weight: bold\">two_backslash_and_tab</td></tr><tr><td>\\x0d\\x09\\x08\\x0a\\x09\\x0a</td><td>1</td><td>[&#x27;\\t123&#x27;, &#x27;ab\\nc&#x27;]</td><td>\\x09</td><td>\\t</td><td>\\\\x09</td><td>\\\\t</td><td>\\\\\\x09</td></tr></table>"
      ],
      "text/plain": [
       "<IPython.core.display.HTML object>"
      ]
     },
     "execution_count": 3,
     "metadata": {},
     "output_type": "execute_result"
    }
   ],
   "source": [
    "%%sparksql --output html --show-nonprinting\n",
    "SELECT\n",
    "    '\\r\\t\\b\\n\\t\\n' AS a,\n",
    "    1 AS num,\n",
    "    ARRAY('\\t123', 'ab\\nc') AS str_array,\n",
    "    '\\t' AS tab,\n",
    "    '\\\\t' AS backslash_and_t,\n",
    "    '\\\\\\t' AS backslash_and_tab,\n",
    "    '\\\\\\\\t' AS two_backslash_and_t,\n",
    "    '\\\\\\\\\\t' AS two_backslash_and_tab\n"
   ]
  },
  {
   "cell_type": "code",
   "execution_count": 4,
   "id": "190ae71f",
   "metadata": {
    "tags": []
   },
   "outputs": [
    {
     "name": "stdout",
     "output_type": "stream",
     "text": [
      "TTL -1 seconds expired, re-generating schema file: /tmp/sparkdb.schema.json\n",
      "Generating schema file: /tmp/sparkdb.schema.json\n",
      "Schema file updated: /tmp/sparkdb.schema.json\n"
     ]
    },
    {
     "data": {
      "application/vnd.jupyter.widget-view+json": {
       "model_id": "96824ab8548e4675b23db99603a79ee5",
       "version_major": 2,
       "version_minor": 0
      },
      "text/plain": [
       "DataGrid(auto_fit_params={'area': 'all', 'padding': 30, 'numCols': None}, corner_renderer=None, default_render…"
      ]
     },
     "metadata": {},
     "output_type": "display_data"
    }
   ],
   "source": [
    "%%sparksql --output grid --show-nonprinting\n",
    "SELECT\n",
    "    '\\r\\t\\b\\n\\t\\n' AS a,\n",
    "    1 AS num,\n",
    "    ARRAY('\\t123', 'ab\\nc') AS str_array,\n",
    "    '\\t' AS tab,\n",
    "    '\\\\t' AS backslash_and_t,\n",
    "    '\\\\\\t' AS backslash_and_tab,\n",
    "    '\\\\\\\\t' AS two_backslash_and_t,\n",
    "    '\\\\\\\\\\t' AS two_backslash_and_tab\n"
   ]
  },
  {
   "cell_type": "code",
   "execution_count": 5,
   "id": "9db4ed4a",
   "metadata": {
    "tags": []
   },
   "outputs": [
    {
     "name": "stdout",
     "output_type": "stream",
     "text": [
      "TTL -1 seconds expired, re-generating schema file: /tmp/sparkdb.schema.json\n",
      "Generating schema file: /tmp/sparkdb.schema.json\n",
      "Schema file updated: /tmp/sparkdb.schema.json\n"
     ]
    },
    {
     "data": {
      "application/json": "",
      "text/plain": [
       "<IPython.core.display.JSON object>"
      ]
     },
     "execution_count": 5,
     "metadata": {
      "application/json": {
       "expanded": false,
       "root": "root"
      }
     },
     "output_type": "execute_result"
    }
   ],
   "source": [
    "%%sparksql --output json --show-nonprinting\n",
    "SELECT\n",
    "    '\\r\\t\\b\\n\\t\\n' AS a,\n",
    "    1 AS num,\n",
    "    ARRAY('\\t123', 'ab\\nc') AS str_array,\n",
    "    '\\t' AS tab,\n",
    "    '\\\\t' AS backslash_and_t,\n",
    "    '\\\\\\t' AS backslash_and_tab,\n",
    "    '\\\\\\\\t' AS two_backslash_and_t,\n",
    "    '\\\\\\\\\\t' AS two_backslash_and_tab\n"
   ]
  },
  {
   "cell_type": "code",
   "execution_count": null,
   "id": "383afdca",
   "metadata": {},
   "outputs": [],
   "source": []
  }
 ],
 "metadata": {
  "kernelspec": {
   "display_name": "Python 3 (ipykernel)",
   "language": "python",
   "name": "python3"
  },
  "language_info": {
   "codemirror_mode": {
    "name": "ipython",
    "version": 3
   },
   "file_extension": ".py",
   "mimetype": "text/x-python",
   "name": "python",
   "nbconvert_exporter": "python",
   "pygments_lexer": "ipython3",
   "version": "3.8.0"
  }
 },
 "nbformat": 4,
 "nbformat_minor": 5
}
