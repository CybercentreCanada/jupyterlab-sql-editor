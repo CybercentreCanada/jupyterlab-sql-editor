{
 "cells": [
  {
   "cell_type": "markdown",
   "id": "7d7cef9a-4185-4374-8a0e-5af2139bde7a",
   "metadata": {},
   "source": [
    "    Normally IPython only displays the output of the last statement. However it can be handy to run multiple sql magics in a single cell and see the output of each execution. Setting `ast_node_interactivity` to `all` will enable that.\n"
   ]
  },
  {
   "cell_type": "code",
   "execution_count": 1,
   "id": "5bd98db3-20bd-425f-8227-e56dbb17159e",
   "metadata": {},
   "outputs": [],
   "source": [
    "# Display all cell outputs in notebook\n",
    "from IPython.core.interactiveshell import InteractiveShell\n",
    "InteractiveShell.ast_node_interactivity = 'all'"
   ]
  },
  {
   "cell_type": "code",
   "execution_count": 2,
   "id": "813f6c4c-31d5-4133-bf5a-c19166175fc5",
   "metadata": {},
   "outputs": [],
   "source": [
    "%load_ext ipython_magic.trino"
   ]
  },
  {
   "cell_type": "code",
   "execution_count": 1,
   "id": "ebe21bca-8dc0-4700-81f8-0c410c007c06",
   "metadata": {},
   "outputs": [],
   "source": [
    "\n",
    "%config Trino.host='localhost'\n",
    "%config Trino.port=8080\n",
    "%config Trino.httpScheme='http'\n",
    "%config Trino.auth=None\n",
    "%config Trino.user='the-user'\n",
    "\n",
    "%config Trino.cacheTTL=3600\n",
    "%config Trino.outputFile=\"/tmp/trinodb.schema.json\"\n",
    "\n",
    "# comma seperated list of schema to cache in the schema file\n",
    "%config Trino.catalogs=\"system,tpch\"\n"
   ]
  },
  {
   "cell_type": "markdown",
   "id": "51c6d367-26c0-4cf3-8be8-3a5072c335f0",
   "metadata": {
    "jp-MarkdownHeadingCollapsed": true,
    "tags": []
   },
   "source": [
    "    In production environment you will want to pass in an authentiction\n",
    "\n",
    "```python\n",
    "    import trino\n",
    "    %config Trino.auth=trino.auth.BasicAuthentication(\"principal id\", \"password\")\n",
    "    %config Trino.user=None\n",
    "```\n",
    "    See https://github.com/trinodb/trino-python-client/blob/master/trino/auth.py for more details\n"
   ]
  },
  {
   "cell_type": "code",
   "execution_count": 3,
   "id": "49829f2e-30ea-4101-a524-ce8489c662b3",
   "metadata": {
    "tags": []
   },
   "outputs": [
    {
     "data": {
      "text/html": [
       "<table><tr style=\"border-bottom: 1px solid\"><td style=\"font-weight: bold\">_col0</td></tr><tr><td>hello</td></tr></table>"
      ],
      "text/plain": [
       "<IPython.core.display.HTML object>"
      ]
     },
     "execution_count": 3,
     "metadata": {},
     "output_type": "execute_result"
    }
   ],
   "source": [
    "%trino SELECT 'hello'"
   ]
  },
  {
   "cell_type": "code",
   "execution_count": 5,
   "id": "97f58dfa-3f02-4f21-ad23-9b55569da98c",
   "metadata": {
    "tags": []
   },
   "outputs": [],
   "source": [
    "#%trino SHOW CATALOGS"
   ]
  },
  {
   "cell_type": "code",
   "execution_count": 4,
   "id": "d98586cb-c056-41e4-a56a-16622ff2c98a",
   "metadata": {},
   "outputs": [
    {
     "data": {
      "text/html": [
       "<style>pre { line-height: 125%; }\n",
       "td.linenos .normal { color: inherit; background-color: transparent; padding-left: 5px; padding-right: 5px; }\n",
       "span.linenos { color: inherit; background-color: transparent; padding-left: 5px; padding-right: 5px; }\n",
       "td.linenos .special { color: #000000; background-color: #ffffc0; padding-left: 5px; padding-right: 5px; }\n",
       "span.linenos.special { color: #000000; background-color: #ffffc0; padding-left: 5px; padding-right: 5px; }\n",
       ".output_html .hll { background-color: #ffffcc }\n",
       ".output_html { background: #f8f8f8; }\n",
       ".output_html .c { color: #408080; font-style: italic } /* Comment */\n",
       ".output_html .err { border: 1px solid #FF0000 } /* Error */\n",
       ".output_html .k { color: #008000; font-weight: bold } /* Keyword */\n",
       ".output_html .o { color: #666666 } /* Operator */\n",
       ".output_html .ch { color: #408080; font-style: italic } /* Comment.Hashbang */\n",
       ".output_html .cm { color: #408080; font-style: italic } /* Comment.Multiline */\n",
       ".output_html .cp { color: #BC7A00 } /* Comment.Preproc */\n",
       ".output_html .cpf { color: #408080; font-style: italic } /* Comment.PreprocFile */\n",
       ".output_html .c1 { color: #408080; font-style: italic } /* Comment.Single */\n",
       ".output_html .cs { color: #408080; font-style: italic } /* Comment.Special */\n",
       ".output_html .gd { color: #A00000 } /* Generic.Deleted */\n",
       ".output_html .ge { font-style: italic } /* Generic.Emph */\n",
       ".output_html .gr { color: #FF0000 } /* Generic.Error */\n",
       ".output_html .gh { color: #000080; font-weight: bold } /* Generic.Heading */\n",
       ".output_html .gi { color: #00A000 } /* Generic.Inserted */\n",
       ".output_html .go { color: #888888 } /* Generic.Output */\n",
       ".output_html .gp { color: #000080; font-weight: bold } /* Generic.Prompt */\n",
       ".output_html .gs { font-weight: bold } /* Generic.Strong */\n",
       ".output_html .gu { color: #800080; font-weight: bold } /* Generic.Subheading */\n",
       ".output_html .gt { color: #0044DD } /* Generic.Traceback */\n",
       ".output_html .kc { color: #008000; font-weight: bold } /* Keyword.Constant */\n",
       ".output_html .kd { color: #008000; font-weight: bold } /* Keyword.Declaration */\n",
       ".output_html .kn { color: #008000; font-weight: bold } /* Keyword.Namespace */\n",
       ".output_html .kp { color: #008000 } /* Keyword.Pseudo */\n",
       ".output_html .kr { color: #008000; font-weight: bold } /* Keyword.Reserved */\n",
       ".output_html .kt { color: #B00040 } /* Keyword.Type */\n",
       ".output_html .m { color: #666666 } /* Literal.Number */\n",
       ".output_html .s { color: #BA2121 } /* Literal.String */\n",
       ".output_html .na { color: #7D9029 } /* Name.Attribute */\n",
       ".output_html .nb { color: #008000 } /* Name.Builtin */\n",
       ".output_html .nc { color: #0000FF; font-weight: bold } /* Name.Class */\n",
       ".output_html .no { color: #880000 } /* Name.Constant */\n",
       ".output_html .nd { color: #AA22FF } /* Name.Decorator */\n",
       ".output_html .ni { color: #999999; font-weight: bold } /* Name.Entity */\n",
       ".output_html .ne { color: #D2413A; font-weight: bold } /* Name.Exception */\n",
       ".output_html .nf { color: #0000FF } /* Name.Function */\n",
       ".output_html .nl { color: #A0A000 } /* Name.Label */\n",
       ".output_html .nn { color: #0000FF; font-weight: bold } /* Name.Namespace */\n",
       ".output_html .nt { color: #008000; font-weight: bold } /* Name.Tag */\n",
       ".output_html .nv { color: #19177C } /* Name.Variable */\n",
       ".output_html .ow { color: #AA22FF; font-weight: bold } /* Operator.Word */\n",
       ".output_html .w { color: #bbbbbb } /* Text.Whitespace */\n",
       ".output_html .mb { color: #666666 } /* Literal.Number.Bin */\n",
       ".output_html .mf { color: #666666 } /* Literal.Number.Float */\n",
       ".output_html .mh { color: #666666 } /* Literal.Number.Hex */\n",
       ".output_html .mi { color: #666666 } /* Literal.Number.Integer */\n",
       ".output_html .mo { color: #666666 } /* Literal.Number.Oct */\n",
       ".output_html .sa { color: #BA2121 } /* Literal.String.Affix */\n",
       ".output_html .sb { color: #BA2121 } /* Literal.String.Backtick */\n",
       ".output_html .sc { color: #BA2121 } /* Literal.String.Char */\n",
       ".output_html .dl { color: #BA2121 } /* Literal.String.Delimiter */\n",
       ".output_html .sd { color: #BA2121; font-style: italic } /* Literal.String.Doc */\n",
       ".output_html .s2 { color: #BA2121 } /* Literal.String.Double */\n",
       ".output_html .se { color: #BB6622; font-weight: bold } /* Literal.String.Escape */\n",
       ".output_html .sh { color: #BA2121 } /* Literal.String.Heredoc */\n",
       ".output_html .si { color: #BB6688; font-weight: bold } /* Literal.String.Interpol */\n",
       ".output_html .sx { color: #008000 } /* Literal.String.Other */\n",
       ".output_html .sr { color: #BB6688 } /* Literal.String.Regex */\n",
       ".output_html .s1 { color: #BA2121 } /* Literal.String.Single */\n",
       ".output_html .ss { color: #19177C } /* Literal.String.Symbol */\n",
       ".output_html .bp { color: #008000 } /* Name.Builtin.Pseudo */\n",
       ".output_html .fm { color: #0000FF } /* Name.Function.Magic */\n",
       ".output_html .vc { color: #19177C } /* Name.Variable.Class */\n",
       ".output_html .vg { color: #19177C } /* Name.Variable.Global */\n",
       ".output_html .vi { color: #19177C } /* Name.Variable.Instance */\n",
       ".output_html .vm { color: #19177C } /* Name.Variable.Magic */\n",
       ".output_html .il { color: #666666 } /* Literal.Number.Integer.Long */\n",
       "pre { line-height: 125%; }\n",
       "td.linenos .normal { color: inherit; background-color: transparent; padding-left: 5px; padding-right: 5px; }\n",
       "span.linenos { color: inherit; background-color: transparent; padding-left: 5px; padding-right: 5px; }\n",
       "td.linenos .special { color: #000000; background-color: #ffffc0; padding-left: 5px; padding-right: 5px; }\n",
       "span.linenos.special { color: #000000; background-color: #ffffc0; padding-left: 5px; padding-right: 5px; }\n",
       ".jp-RenderedHTML .hll { background-color: #ffffcc }\n",
       ".jp-RenderedHTML { background: #f8f8f8; }\n",
       ".jp-RenderedHTML .c { color: #408080; font-style: italic } /* Comment */\n",
       ".jp-RenderedHTML .err { border: 1px solid #FF0000 } /* Error */\n",
       ".jp-RenderedHTML .k { color: #008000; font-weight: bold } /* Keyword */\n",
       ".jp-RenderedHTML .o { color: #666666 } /* Operator */\n",
       ".jp-RenderedHTML .ch { color: #408080; font-style: italic } /* Comment.Hashbang */\n",
       ".jp-RenderedHTML .cm { color: #408080; font-style: italic } /* Comment.Multiline */\n",
       ".jp-RenderedHTML .cp { color: #BC7A00 } /* Comment.Preproc */\n",
       ".jp-RenderedHTML .cpf { color: #408080; font-style: italic } /* Comment.PreprocFile */\n",
       ".jp-RenderedHTML .c1 { color: #408080; font-style: italic } /* Comment.Single */\n",
       ".jp-RenderedHTML .cs { color: #408080; font-style: italic } /* Comment.Special */\n",
       ".jp-RenderedHTML .gd { color: #A00000 } /* Generic.Deleted */\n",
       ".jp-RenderedHTML .ge { font-style: italic } /* Generic.Emph */\n",
       ".jp-RenderedHTML .gr { color: #FF0000 } /* Generic.Error */\n",
       ".jp-RenderedHTML .gh { color: #000080; font-weight: bold } /* Generic.Heading */\n",
       ".jp-RenderedHTML .gi { color: #00A000 } /* Generic.Inserted */\n",
       ".jp-RenderedHTML .go { color: #888888 } /* Generic.Output */\n",
       ".jp-RenderedHTML .gp { color: #000080; font-weight: bold } /* Generic.Prompt */\n",
       ".jp-RenderedHTML .gs { font-weight: bold } /* Generic.Strong */\n",
       ".jp-RenderedHTML .gu { color: #800080; font-weight: bold } /* Generic.Subheading */\n",
       ".jp-RenderedHTML .gt { color: #0044DD } /* Generic.Traceback */\n",
       ".jp-RenderedHTML .kc { color: #008000; font-weight: bold } /* Keyword.Constant */\n",
       ".jp-RenderedHTML .kd { color: #008000; font-weight: bold } /* Keyword.Declaration */\n",
       ".jp-RenderedHTML .kn { color: #008000; font-weight: bold } /* Keyword.Namespace */\n",
       ".jp-RenderedHTML .kp { color: #008000 } /* Keyword.Pseudo */\n",
       ".jp-RenderedHTML .kr { color: #008000; font-weight: bold } /* Keyword.Reserved */\n",
       ".jp-RenderedHTML .kt { color: #B00040 } /* Keyword.Type */\n",
       ".jp-RenderedHTML .m { color: #666666 } /* Literal.Number */\n",
       ".jp-RenderedHTML .s { color: #BA2121 } /* Literal.String */\n",
       ".jp-RenderedHTML .na { color: #7D9029 } /* Name.Attribute */\n",
       ".jp-RenderedHTML .nb { color: #008000 } /* Name.Builtin */\n",
       ".jp-RenderedHTML .nc { color: #0000FF; font-weight: bold } /* Name.Class */\n",
       ".jp-RenderedHTML .no { color: #880000 } /* Name.Constant */\n",
       ".jp-RenderedHTML .nd { color: #AA22FF } /* Name.Decorator */\n",
       ".jp-RenderedHTML .ni { color: #999999; font-weight: bold } /* Name.Entity */\n",
       ".jp-RenderedHTML .ne { color: #D2413A; font-weight: bold } /* Name.Exception */\n",
       ".jp-RenderedHTML .nf { color: #0000FF } /* Name.Function */\n",
       ".jp-RenderedHTML .nl { color: #A0A000 } /* Name.Label */\n",
       ".jp-RenderedHTML .nn { color: #0000FF; font-weight: bold } /* Name.Namespace */\n",
       ".jp-RenderedHTML .nt { color: #008000; font-weight: bold } /* Name.Tag */\n",
       ".jp-RenderedHTML .nv { color: #19177C } /* Name.Variable */\n",
       ".jp-RenderedHTML .ow { color: #AA22FF; font-weight: bold } /* Operator.Word */\n",
       ".jp-RenderedHTML .w { color: #bbbbbb } /* Text.Whitespace */\n",
       ".jp-RenderedHTML .mb { color: #666666 } /* Literal.Number.Bin */\n",
       ".jp-RenderedHTML .mf { color: #666666 } /* Literal.Number.Float */\n",
       ".jp-RenderedHTML .mh { color: #666666 } /* Literal.Number.Hex */\n",
       ".jp-RenderedHTML .mi { color: #666666 } /* Literal.Number.Integer */\n",
       ".jp-RenderedHTML .mo { color: #666666 } /* Literal.Number.Oct */\n",
       ".jp-RenderedHTML .sa { color: #BA2121 } /* Literal.String.Affix */\n",
       ".jp-RenderedHTML .sb { color: #BA2121 } /* Literal.String.Backtick */\n",
       ".jp-RenderedHTML .sc { color: #BA2121 } /* Literal.String.Char */\n",
       ".jp-RenderedHTML .dl { color: #BA2121 } /* Literal.String.Delimiter */\n",
       ".jp-RenderedHTML .sd { color: #BA2121; font-style: italic } /* Literal.String.Doc */\n",
       ".jp-RenderedHTML .s2 { color: #BA2121 } /* Literal.String.Double */\n",
       ".jp-RenderedHTML .se { color: #BB6622; font-weight: bold } /* Literal.String.Escape */\n",
       ".jp-RenderedHTML .sh { color: #BA2121 } /* Literal.String.Heredoc */\n",
       ".jp-RenderedHTML .si { color: #BB6688; font-weight: bold } /* Literal.String.Interpol */\n",
       ".jp-RenderedHTML .sx { color: #008000 } /* Literal.String.Other */\n",
       ".jp-RenderedHTML .sr { color: #BB6688 } /* Literal.String.Regex */\n",
       ".jp-RenderedHTML .s1 { color: #BA2121 } /* Literal.String.Single */\n",
       ".jp-RenderedHTML .ss { color: #19177C } /* Literal.String.Symbol */\n",
       ".jp-RenderedHTML .bp { color: #008000 } /* Name.Builtin.Pseudo */\n",
       ".jp-RenderedHTML .fm { color: #0000FF } /* Name.Function.Magic */\n",
       ".jp-RenderedHTML .vc { color: #19177C } /* Name.Variable.Class */\n",
       ".jp-RenderedHTML .vg { color: #19177C } /* Name.Variable.Global */\n",
       ".jp-RenderedHTML .vi { color: #19177C } /* Name.Variable.Instance */\n",
       ".jp-RenderedHTML .vm { color: #19177C } /* Name.Variable.Magic */\n",
       ".jp-RenderedHTML .il { color: #666666 } /* Literal.Number.Integer.Long */</style><div class=\"highlight\"><pre><span></span><span class=\"k\">SELECT</span> <span class=\"o\">*</span>\n",
       "<span class=\"k\">FROM</span>\n",
       "    <span class=\"n\">tpch</span><span class=\"p\">.</span><span class=\"n\">tiny</span><span class=\"p\">.</span><span class=\"n\">orders</span> <span class=\"k\">AS</span> <span class=\"n\">ord</span>\n",
       "</pre></div>\n"
      ],
      "text/latex": [
       "\\begin{Verbatim}[commandchars=\\\\\\{\\}]\n",
       "\\PY{k}{SELECT} \\PY{o}{*}\n",
       "\\PY{k}{FROM}\n",
       "    \\PY{n}{tpch}\\PY{p}{.}\\PY{n}{tiny}\\PY{p}{.}\\PY{n}{orders} \\PY{k}{AS} \\PY{n}{ord}\n",
       "\\end{Verbatim}\n"
      ],
      "text/plain": [
       "SELECT *\n",
       "FROM\n",
       "    tpch.tiny.orders AS ord"
      ]
     },
     "execution_count": 4,
     "metadata": {},
     "output_type": "execute_result"
    }
   ],
   "source": [
    "%%trino --limit 2 --output sql\n",
    "SELECT *\n",
    "FROM\n",
    "    tpch.tiny.orders AS ord\n"
   ]
  },
  {
   "cell_type": "code",
   "execution_count": 5,
   "id": "65010544-c6e5-42de-8c23-89e305cb63cd",
   "metadata": {},
   "outputs": [
    {
     "name": "stdout",
     "output_type": "stream",
     "text": [
      "Saved results to pandas dataframe named `x`\n",
      "Only showing top 2 row(s)\n"
     ]
    },
    {
     "data": {
      "application/vnd.jupyter.widget-view+json": {
       "model_id": "6b8775419a024857993ab9e7e2fda6d2",
       "version_major": 2,
       "version_minor": 0
      },
      "text/plain": [
       "DataGrid(auto_fit_params={'area': 'all', 'padding': 30, 'numCols': None}, corner_renderer=None, default_render…"
      ]
     },
     "metadata": {},
     "output_type": "display_data"
    }
   ],
   "source": [
    "%%trino --limit 2 --dataframe x --output grid\n",
    "SELECT\n",
    "    ord.orderkey,\n",
    "    ord.custkey,\n",
    "    ord.orderstatus,\n",
    "    ord.totalprice,\n",
    "    ord.orderdate,\n",
    "    ord.orderpriority,\n",
    "    ord.clerk,\n",
    "    ord.shippriority,\n",
    "    ord.comment\n",
    "FROM\n",
    "    tpch.tiny.orders AS ord\n"
   ]
  },
  {
   "cell_type": "code",
   "execution_count": null,
   "id": "2e050ea0-5672-4622-b507-cd0cdd02f145",
   "metadata": {},
   "outputs": [],
   "source": []
  },
  {
   "cell_type": "code",
   "execution_count": null,
   "id": "85da37a3-6a53-4ae5-9ed5-54aea2257dff",
   "metadata": {},
   "outputs": [],
   "source": []
  },
  {
   "cell_type": "code",
   "execution_count": 6,
   "id": "a3c7a7e2-b6c8-4da9-b3be-71803dea7c13",
   "metadata": {},
   "outputs": [
    {
     "name": "stdout",
     "output_type": "stream",
     "text": [
      "Only showing top 20 row(s)\n"
     ]
    },
    {
     "data": {
      "text/html": [
       "<table><tr style=\"border-bottom: 1px solid\"><td style=\"font-weight: bold\">orderkey</td><td style=\"font-weight: bold\">partkey</td><td style=\"font-weight: bold\">suppkey</td><td style=\"font-weight: bold\">linenumber</td><td style=\"font-weight: bold\">quantity</td><td style=\"font-weight: bold\">extendedprice</td><td style=\"font-weight: bold\">discount</td><td style=\"font-weight: bold\">tax</td><td style=\"font-weight: bold\">returnflag</td><td style=\"font-weight: bold\">linestatus</td><td style=\"font-weight: bold\">shipdate</td><td style=\"font-weight: bold\">commitdate</td><td style=\"font-weight: bold\">receiptdate</td><td style=\"font-weight: bold\">shipinstruct</td><td style=\"font-weight: bold\">shipmode</td><td style=\"font-weight: bold\">comment</td><td style=\"font-weight: bold\">orderpriority</td></tr><tr><td>1</td><td>155189345</td><td>7689361</td><td>1</td><td>17.0</td><td>24252.03</td><td>0.04</td><td>0.02</td><td>N</td><td>O</td><td>1996-03-13</td><td>1996-02-12</td><td>1996-03-22</td><td>DELIVER IN PERSON</td><td>TRUCK</td><td>egular courts above the</td><td>5-LOW</td></tr><tr><td>1</td><td>67309080</td><td>7309081</td><td>2</td><td>36.0</td><td>39085.92</td><td>0.09</td><td>0.06</td><td>N</td><td>O</td><td>1996-04-12</td><td>1996-02-28</td><td>1996-04-20</td><td>TAKE BACK RETURN</td><td>MAIL</td><td>ly final dependencies: slyly bold </td><td>5-LOW</td></tr><tr><td>1</td><td>63699776</td><td>3699777</td><td>3</td><td>8.0</td><td>14180.72</td><td>0.1</td><td>0.02</td><td>N</td><td>O</td><td>1996-01-29</td><td>1996-03-05</td><td>1996-01-31</td><td>TAKE BACK RETURN</td><td>REG AIR</td><td>riously. regular, express dep</td><td>5-LOW</td></tr><tr><td>1</td><td>2131495</td><td>4631496</td><td>4</td><td>28.0</td><td>42738.92</td><td>0.09</td><td>0.06</td><td>N</td><td>O</td><td>1996-04-21</td><td>1996-03-30</td><td>1996-05-16</td><td>NONE</td><td>AIR</td><td>lites. fluffily even de</td><td>5-LOW</td></tr><tr><td>1</td><td>24026634</td><td>1526641</td><td>5</td><td>24.0</td><td>37426.32</td><td>0.1</td><td>0.04</td><td>N</td><td>O</td><td>1996-03-30</td><td>1996-03-14</td><td>1996-04-01</td><td>NONE</td><td>FOB</td><td> pending foxes. slyly re</td><td>5-LOW</td></tr><tr><td>1</td><td>15634450</td><td>634453</td><td>6</td><td>32.0</td><td>44277.44</td><td>0.07</td><td>0.02</td><td>N</td><td>O</td><td>1996-01-30</td><td>1996-02-07</td><td>1996-02-03</td><td>DELIVER IN PERSON</td><td>MAIL</td><td>arefully slyly ex</td><td>5-LOW</td></tr><tr><td>2</td><td>106169722</td><td>1169743</td><td>1</td><td>38.0</td><td>67883.96</td><td>0.0</td><td>0.05</td><td>N</td><td>O</td><td>1997-01-28</td><td>1997-01-14</td><td>1997-02-02</td><td>TAKE BACK RETURN</td><td>RAIL</td><td>ven requests. deposits breach a</td><td>1-URGENT</td></tr><tr><td>3</td><td>4296962</td><td>1796963</td><td>1</td><td>45.0</td><td>88143.75</td><td>0.06</td><td>0.0</td><td>R</td><td>F</td><td>1994-02-02</td><td>1994-01-04</td><td>1994-02-23</td><td>NONE</td><td>AIR</td><td>ongside of the furiously brave acco</td><td>5-LOW</td></tr><tr><td>3</td><td>19035429</td><td>6535433</td><td>2</td><td>49.0</td><td>66810.03</td><td>0.1</td><td>0.0</td><td>R</td><td>F</td><td>1993-11-09</td><td>1993-12-20</td><td>1993-11-24</td><td>TAKE BACK RETURN</td><td>RAIL</td><td> unusual accounts. eve</td><td>5-LOW</td></tr><tr><td>3</td><td>128448229</td><td>3448254</td><td>3</td><td>27.0</td><td>31611.6</td><td>0.06</td><td>0.07</td><td>A</td><td>F</td><td>1994-01-16</td><td>1993-11-22</td><td>1994-01-23</td><td>DELIVER IN PERSON</td><td>SHIP</td><td>nal foxes wake. </td><td>5-LOW</td></tr><tr><td>3</td><td>29379610</td><td>1879613</td><td>4</td><td>2.0</td><td>3376.3</td><td>0.01</td><td>0.06</td><td>A</td><td>F</td><td>1993-12-04</td><td>1994-01-07</td><td>1994-01-01</td><td>NONE</td><td>TRUCK</td><td>y. fluffily pending d</td><td>5-LOW</td></tr><tr><td>3</td><td>183094077</td><td>594132</td><td>5</td><td>28.0</td><td>29733.76</td><td>0.04</td><td>0.0</td><td>R</td><td>F</td><td>1993-12-14</td><td>1994-01-10</td><td>1994-01-01</td><td>TAKE BACK RETURN</td><td>FOB</td><td>ages nag slyly pending</td><td>5-LOW</td></tr><tr><td>3</td><td>62142591</td><td>9642610</td><td>6</td><td>26.0</td><td>42392.74</td><td>0.1</td><td>0.02</td><td>A</td><td>F</td><td>1993-10-29</td><td>1993-12-18</td><td>1993-11-04</td><td>TAKE BACK RETURN</td><td>RAIL</td><td>ges sleep after the caref</td><td>5-LOW</td></tr><tr><td>4</td><td>88034684</td><td>5534709</td><td>1</td><td>30.0</td><td>48428.4</td><td>0.03</td><td>0.08</td><td>N</td><td>O</td><td>1996-01-10</td><td>1995-12-14</td><td>1996-01-18</td><td>DELIVER IN PERSON</td><td>REG AIR</td><td>- quickly regular packages sleep. idly</td><td>5-LOW</td></tr><tr><td>5</td><td>108569283</td><td>8569284</td><td>1</td><td>15.0</td><td>20202.9</td><td>0.02</td><td>0.04</td><td>R</td><td>F</td><td>1994-10-31</td><td>1994-08-31</td><td>1994-11-20</td><td>NONE</td><td>AIR</td><td>ts wake furiously </td><td>5-LOW</td></tr><tr><td>5</td><td>123926789</td><td>3926790</td><td>2</td><td>26.0</td><td>47049.34</td><td>0.07</td><td>0.08</td><td>R</td><td>F</td><td>1994-10-16</td><td>1994-09-25</td><td>1994-10-19</td><td>NONE</td><td>FOB</td><td>sts use slyly quickly special instruc</td><td>5-LOW</td></tr><tr><td>5</td><td>37530180</td><td>30184</td><td>3</td><td>50.0</td><td>60415.5</td><td>0.08</td><td>0.03</td><td>A</td><td>F</td><td>1994-08-08</td><td>1994-10-13</td><td>1994-08-26</td><td>DELIVER IN PERSON</td><td>AIR</td><td>eodolites. fluffily unusual</td><td>5-LOW</td></tr><tr><td>6</td><td>139635455</td><td>2135469</td><td>1</td><td>37.0</td><td>51188.39</td><td>0.08</td><td>0.03</td><td>A</td><td>F</td><td>1992-04-27</td><td>1992-05-15</td><td>1992-05-02</td><td>TAKE BACK RETURN</td><td>TRUCK</td><td>p furiously special foxes</td><td>4-NOT SPECIFIED</td></tr><tr><td>7</td><td>182051839</td><td>9551894</td><td>1</td><td>12.0</td><td>21380.76</td><td>0.07</td><td>0.03</td><td>N</td><td>O</td><td>1996-05-07</td><td>1996-03-13</td><td>1996-06-03</td><td>TAKE BACK RETURN</td><td>FOB</td><td>ss pinto beans wake against th</td><td>2-HIGH</td></tr><tr><td>7</td><td>145242743</td><td>7742758</td><td>2</td><td>9.0</td><td>15106.32</td><td>0.08</td><td>0.08</td><td>N</td><td>O</td><td>1996-02-01</td><td>1996-03-02</td><td>1996-02-19</td><td>TAKE BACK RETURN</td><td>SHIP</td><td>es. instructions</td><td>2-HIGH</td></tr></table>"
      ],
      "text/plain": [
       "<IPython.core.display.HTML object>"
      ]
     },
     "execution_count": 6,
     "metadata": {},
     "output_type": "execute_result"
    }
   ],
   "source": [
    "%%trino\n",
    "SELECT\n",
    "    lin.orderkey,\n",
    "    lin.partkey,\n",
    "    lin.suppkey,\n",
    "    lin.linenumber,\n",
    "    lin.quantity,\n",
    "    lin.extendedprice,\n",
    "    lin.discount,\n",
    "    lin.tax,\n",
    "    lin.returnflag,\n",
    "    lin.linestatus,\n",
    "    lin.shipdate,\n",
    "    lin.commitdate,\n",
    "    lin.receiptdate,\n",
    "    lin.shipinstruct,\n",
    "    lin.shipmode,\n",
    "    lin.comment,\n",
    "    ord.orderpriority\n",
    "FROM\n",
    "    tpch.sf1000.lineitem AS lin\n",
    "    INNER JOIN tpch.sf1.orders AS ord ON ord.orderkey = lin.orderkey\n"
   ]
  },
  {
   "cell_type": "code",
   "execution_count": 7,
   "id": "c6dc148e-7959-4d21-89a8-e426a5658133",
   "metadata": {
    "tags": []
   },
   "outputs": [
    {
     "data": {
      "application/json": [
       {
        "a": 1,
        "b": "abc",
        "c": 1.2,
        "d": [
         1,
         2
        ],
        "e": [
         1,
         null,
         4
        ],
        "f": [
         [
          1,
          2
         ],
         [
          5,
          4
         ]
        ],
        "g": {
         "k1": 1,
         "k2": 23,
         "k3": 456
        },
        "h": {
         "k1": 1,
         "k2": "abc",
         "k3": true,
         "k4": null
        }
       }
      ],
      "text/plain": [
       "<IPython.core.display.JSON object>"
      ]
     },
     "execution_count": 7,
     "metadata": {
      "application/json": {
       "expanded": false,
       "root": "root"
      }
     },
     "output_type": "execute_result"
    }
   ],
   "source": [
    "%%trino --output json\n",
    "SELECT\n",
    "    1 AS a,\n",
    "    'abc' as b,\n",
    "    1.2 as c,\n",
    "    ARRAY[1,2] as d,\n",
    "    ARRAY[1, null, 4] as e,\n",
    "    ARRAY[ARRAY[1,2],ARRAY[5,4]] as f,\n",
    "    CAST(ROW(1,23,456) as ROW(k1 INT, k2 INT, k3 INT)) as g,\n",
    "    CAST(ROW(1,'abc',true,null) as ROW(k1 INT, k2 VARCHAR, k3 BOOLEAN, k4 VARCHAR)) as h\n",
    "    \n"
   ]
  },
  {
   "cell_type": "code",
   "execution_count": 8,
   "id": "1c2799a2-a455-49e3-9dd1-0d17fa82a556",
   "metadata": {},
   "outputs": [
    {
     "data": {
      "text/plain": [
       "\u001b[0;31mDocstring:\u001b[0m\n",
       "::\n",
       "\n",
       "  %trino [-l max_rows] [-r all|local|none] [-d name]\n",
       "             [-o sql|json|html|grid|skip|none] [-s] [-x]\n",
       "             [sql [sql ...]]\n",
       "\n",
       "Magic that works both as %trino and as %%trino\n",
       "\n",
       "positional arguments:\n",
       "  sql                   SQL statement to execute\n",
       "\n",
       "optional arguments:\n",
       "  -l max_rows, --limit max_rows\n",
       "                        The maximum number of rows to display. A value of zero\n",
       "                        is equivalent to `--output skip`\n",
       "  -r <all|local|none>, --refresh <all|local|none>\n",
       "                        Force the regeneration of the schema cache file. The\n",
       "                        `local` option will only update tables/views created\n",
       "                        in the local Spark context.\n",
       "  -d name, --dataframe name\n",
       "                        Capture results in pandas dataframe\n",
       "  -o <sql|json|html|grid|skip|none>, --output <sql|json|html|grid|skip|none>\n",
       "                        Output format. Defaults to html. The `sql` option\n",
       "                        prints the SQL statement that will be executed (useful\n",
       "                        to test jinja templated statements)\n",
       "  -s, --show-nonprinting\n",
       "                        Replace none printable characters with their ascii\n",
       "                        codes (LF -> )\n",
       "  -x, --raw             Run statement as is. Do not wrap statement with a\n",
       "                        limit. Use this option to run statement which can't be\n",
       "                        wrapped in a SELECT/LIMIT statement. For example\n",
       "                        EXPLAIN, SHOW TABLE, SHOW CATALOGS.\n",
       "\u001b[0;31mFile:\u001b[0m      /data/dev/jupyterlab_sql_editor/ipython_magic/trino/trino.py\n"
      ]
     },
     "metadata": {},
     "output_type": "display_data"
    }
   ],
   "source": [
    "%%trino?"
   ]
  },
  {
   "cell_type": "code",
   "execution_count": 9,
   "id": "4b9f4918-7585-4a28-8d17-d31942e02aff",
   "metadata": {},
   "outputs": [
    {
     "name": "stdout",
     "output_type": "stream",
     "text": [
      "Schema file updated: /tmp/trinodb.schema.json\n"
     ]
    }
   ],
   "source": [
    "%trino --refresh all"
   ]
  }
 ],
 "metadata": {
  "kernelspec": {
   "display_name": "Python 3 (ipykernel)",
   "language": "python",
   "name": "python3"
  },
  "language_info": {
   "codemirror_mode": {
    "name": "ipython",
    "version": 3
   },
   "file_extension": ".py",
   "mimetype": "text/x-python",
   "name": "python",
   "nbconvert_exporter": "python",
   "pygments_lexer": "ipython3",
   "version": "3.8.0"
  }
 },
 "nbformat": 4,
 "nbformat_minor": 5
}
