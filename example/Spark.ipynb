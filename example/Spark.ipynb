{
 "cells": [
  {
   "cell_type": "code",
   "execution_count": 1,
   "id": "64b7c645",
   "metadata": {},
   "outputs": [],
   "source": [
    "import json\n",
    "import pyspark\n",
    "from pyspark.sql import SparkSession\n",
    "from pyspark.sql.types import *"
   ]
  },
  {
   "cell_type": "code",
   "execution_count": null,
   "id": "d4a06452",
   "metadata": {},
   "outputs": [],
   "source": [
    "spark = SparkSession.builder.getOrCreate()"
   ]
  },
  {
   "cell_type": "markdown",
   "id": "5fe87250-6936-4de6-bacf-0490a5812516",
   "metadata": {},
   "source": [
    "    Normally IPython only displays the output of the last statement. However it can be handy to run multiple sql magics in a single cell and see the output of each execution. Setting `ast_node_interactivity` to `all` will enable that.\n"
   ]
  },
  {
   "cell_type": "code",
   "execution_count": 3,
   "id": "38907ced-2b87-4e5a-b278-3966945a3979",
   "metadata": {},
   "outputs": [],
   "source": [
    "from IPython.core.interactiveshell import InteractiveShell\n",
    "InteractiveShell.ast_node_interactivity = 'all'"
   ]
  },
  {
   "cell_type": "code",
   "execution_count": 4,
   "id": "f27fd6ea",
   "metadata": {
    "tags": []
   },
   "outputs": [],
   "source": [
    "%load_ext ipython_magic.sparksql"
   ]
  },
  {
   "cell_type": "code",
   "execution_count": 5,
   "id": "054d2685-5ce9-4be6-8784-e604abc621e0",
   "metadata": {},
   "outputs": [],
   "source": [
    "%config SparkSql.cacheTTL=3600\n",
    "%config SparkSql.outputFile=\"/tmp/sparkdb.schema.json\""
   ]
  },
  {
   "cell_type": "code",
   "execution_count": 6,
   "id": "3eea8a28-a335-490a-9bdb-b20b8e33d243",
   "metadata": {},
   "outputs": [
    {
     "name": "stdout",
     "output_type": "stream",
     "text": [
      "root\n",
      " |-- address: struct (nullable = true)\n",
      " |    |-- city: string (nullable = true)\n",
      " |    |-- postalCode: string (nullable = true)\n",
      " |    |-- state: string (nullable = true)\n",
      " |    |-- streetAddress: string (nullable = true)\n",
      " |-- age: long (nullable = true)\n",
      " |-- first Name: string (nullable = true)\n",
      " |-- last Name: string (nullable = true)\n",
      " |-- phoneNumbers: array (nullable = true)\n",
      " |    |-- element: struct (containsNull = true)\n",
      " |    |    |-- number: string (nullable = true)\n",
      " |    |    |-- type: string (nullable = true)\n",
      "\n"
     ]
    },
    {
     "name": "stderr",
     "output_type": "stream",
     "text": [
      "                                                                                \r"
     ]
    }
   ],
   "source": [
    "df = spark.read.json(\"contacts.json\")\n",
    "df.printSchema()"
   ]
  },
  {
   "cell_type": "code",
   "execution_count": 7,
   "id": "2c0b3ceb-0a3f-46cd-a156-aa52e0c22f6c",
   "metadata": {},
   "outputs": [],
   "source": [
    "df.createOrReplaceTempView(\"CONTACTS_TABLE\")"
   ]
  },
  {
   "cell_type": "code",
   "execution_count": 8,
   "id": "b189e37c-897e-4fe4-b06c-82c99d894381",
   "metadata": {},
   "outputs": [
    {
     "name": "stdout",
     "output_type": "stream",
     "text": [
      "TTL 3600 seconds expired, re-generating schema file: /tmp/sparkdb.schema.json\n",
      "Generating schema file: /tmp/sparkdb.schema.json\n",
      "Schema file updated: /tmp/sparkdb.schema.json\n"
     ]
    },
    {
     "data": {
      "text/html": [
       "<table><tr style=\"border-bottom: 1px solid\"><td style=\"font-weight: bold\">database</td><td style=\"font-weight: bold\">tableName</td><td style=\"font-weight: bold\">isTemporary</td></tr><tr><td></td><td>contacts_table</td><td>True</td></tr></table>"
      ],
      "text/plain": [
       "<IPython.core.display.HTML object>"
      ]
     },
     "execution_count": 8,
     "metadata": {},
     "output_type": "execute_result"
    }
   ],
   "source": [
    "%sparksql SHOW TABLES"
   ]
  },
  {
   "cell_type": "markdown",
   "id": "0d23afda-9431-4ef9-9439-ab4a1c92a05d",
   "metadata": {},
   "source": [
    "# Press tab to trigger auto completions and Ctrl-Q to format cell"
   ]
  },
  {
   "cell_type": "code",
   "execution_count": 9,
   "id": "3ae4bfa8-316f-4b0c-bd9d-cdae30b3704b",
   "metadata": {
    "tags": []
   },
   "outputs": [
    {
     "data": {
      "application/vnd.jupyter.widget-view+json": {
       "model_id": "0283ce459adb40c8b6c6acf575390547",
       "version_major": 2,
       "version_minor": 0
      },
      "text/plain": [
       "DataGrid(auto_fit_params={'area': 'all', 'padding': 30, 'numCols': None}, corner_renderer=None, default_render…"
      ]
     },
     "metadata": {},
     "output_type": "display_data"
    }
   ],
   "source": [
    "%%sparksql --output grid --limit 1000\n",
    "SELECT\n",
    "    id,\n",
    "    uuid()\n",
    "FROM\n",
    "    RANGE (1, 1000)\n"
   ]
  },
  {
   "cell_type": "code",
   "execution_count": null,
   "id": "d4aa4a32-bc82-4201-8491-3900ec868245",
   "metadata": {},
   "outputs": [],
   "source": []
  },
  {
   "cell_type": "code",
   "execution_count": 10,
   "id": "facc2d4c-b3f9-4026-919c-873aeef71f2f",
   "metadata": {},
   "outputs": [
    {
     "data": {
      "text/html": [
       "<table><tr style=\"border-bottom: 1px solid\"><td style=\"font-weight: bold\">first Name</td><td style=\"font-weight: bold\">primary_number</td><td style=\"font-weight: bold\">flag</td></tr><tr><td>Rack</td><td>home</td><td>True</td></tr></table>"
      ],
      "text/plain": [
       "<IPython.core.display.HTML object>"
      ]
     },
     "execution_count": 10,
     "metadata": {},
     "output_type": "execute_result"
    }
   ],
   "source": [
    "%%sparksql --output html --limit 3\n",
    "\n",
    "SELECT\n",
    "    con.`first Name`,\n",
    "    con.phoneNumbers [ 0 ].type as primary_number,\n",
    "    array_contains(con.phoneNumbers.type, 'home') as flag\n",
    "FROM\n",
    "    contacts_table AS con\n"
   ]
  },
  {
   "cell_type": "code",
   "execution_count": 11,
   "id": "02b79722-aa71-4820-83ee-517150958c29",
   "metadata": {},
   "outputs": [
    {
     "data": {
      "application/json": "",
      "text/plain": [
       "<IPython.core.display.JSON object>"
      ]
     },
     "execution_count": 11,
     "metadata": {
      "application/json": {
       "expanded": false,
       "root": "root"
      }
     },
     "output_type": "execute_result"
    }
   ],
   "source": [
    "%%sparksql --output json --limit 3\n",
    "SELECT\n",
    "    *\n",
    "FROM\n",
    "    contacts_table AS con\n"
   ]
  },
  {
   "cell_type": "code",
   "execution_count": null,
   "id": "86ef0f58-2f28-4f90-b42a-1bbc883ed203",
   "metadata": {},
   "outputs": [],
   "source": []
  },
  {
   "cell_type": "code",
   "execution_count": null,
   "id": "969487b7-247c-46eb-b6e7-281a5ace3e02",
   "metadata": {},
   "outputs": [],
   "source": []
  },
  {
   "cell_type": "markdown",
   "id": "07b3ac2f-3750-4c24-84e7-27c61d3a131d",
   "metadata": {},
   "source": [
    "# Create a temporary view with the --view option"
   ]
  },
  {
   "cell_type": "code",
   "execution_count": 12,
   "id": "3fdffde3",
   "metadata": {},
   "outputs": [
    {
     "name": "stdout",
     "output_type": "stream",
     "text": [
      "Created temporary view `the_exploded_table`\n",
      "Updating local tables\n",
      "Query execution skipped\n"
     ]
    }
   ],
   "source": [
    "%%sparksql --view the_exploded_table --output skip\n",
    "SELECT\n",
    "    *, \n",
    "    explode(con.phoneNumbers) as phoneNumber\n",
    "FROM\n",
    "    contacts_table AS con\n"
   ]
  },
  {
   "cell_type": "code",
   "execution_count": 13,
   "id": "c8263b7d-6d1a-4747-aaa9-89673f2fb8fb",
   "metadata": {},
   "outputs": [
    {
     "data": {
      "text/html": [
       "<table><tr style=\"border-bottom: 1px solid\"><td style=\"font-weight: bold\">database</td><td style=\"font-weight: bold\">tableName</td><td style=\"font-weight: bold\">isTemporary</td></tr><tr><td></td><td>contacts_table</td><td>True</td></tr><tr><td></td><td>the_exploded_table</td><td>True</td></tr></table>"
      ],
      "text/plain": [
       "<IPython.core.display.HTML object>"
      ]
     },
     "execution_count": 13,
     "metadata": {},
     "output_type": "execute_result"
    }
   ],
   "source": [
    "%sparksql SHOW TABLES"
   ]
  },
  {
   "cell_type": "markdown",
   "id": "4f145195-e8c9-4771-a4ae-0ffbe479234c",
   "metadata": {},
   "source": [
    "# Use temporary view in subsequent queries with autocomplet suggestions"
   ]
  },
  {
   "cell_type": "code",
   "execution_count": 14,
   "id": "8e5b8ab8-3b53-4653-9894-6ce5ef666a5c",
   "metadata": {},
   "outputs": [
    {
     "data": {
      "text/html": [
       "<table><tr style=\"border-bottom: 1px solid\"><td style=\"font-weight: bold\">address</td><td style=\"font-weight: bold\">age</td><td style=\"font-weight: bold\">first Name</td><td style=\"font-weight: bold\">last Name</td><td style=\"font-weight: bold\">phoneNumbers</td><td style=\"font-weight: bold\">phoneNumber</td></tr><tr><td>Row(city=&#x27;San Jone&#x27;, postalCode=&#x27;394221&#x27;, state=&#x27;CA&#x27;, streetAddress=&#x27;126&#x27;)</td><td>24</td><td>Rack</td><td>Jackon</td><td>[Row(number=&#x27;7383627627&#x27;, type=&#x27;home&#x27;)]</td><td>Row(number=&#x27;7383627627&#x27;, type=&#x27;home&#x27;)</td></tr></table>"
      ],
      "text/plain": [
       "<IPython.core.display.HTML object>"
      ]
     },
     "execution_count": 14,
     "metadata": {},
     "output_type": "execute_result"
    }
   ],
   "source": [
    "%%sparksql\n",
    "SELECT\n",
    "    *\n",
    "FROM\n",
    "    the_exploded_table AS the\n"
   ]
  },
  {
   "cell_type": "markdown",
   "id": "d2cf1f01-46a4-4709-a366-7ce325cb78aa",
   "metadata": {},
   "source": [
    "# Create a dataframe variable to use in pypark"
   ]
  },
  {
   "cell_type": "code",
   "execution_count": 15,
   "id": "7f132420-5f45-4042-9e54-7e5ad42959f8",
   "metadata": {},
   "outputs": [
    {
     "name": "stdout",
     "output_type": "stream",
     "text": [
      "Captured dataframe to local variable `the_exploded_dataframe`\n",
      "Query execution skipped\n"
     ]
    }
   ],
   "source": [
    "%%sparksql --dataframe the_exploded_dataframe --output skip\n",
    "SELECT\n",
    "    *, \n",
    "    explode(con.phoneNumbers) as phoneNumber\n",
    "FROM\n",
    "    contacts_table AS con\n"
   ]
  },
  {
   "cell_type": "markdown",
   "id": "d4d41d75-c54b-4976-b6e4-cc713698897c",
   "metadata": {},
   "source": [
    "# Continue developing your query using dataframe API"
   ]
  },
  {
   "cell_type": "code",
   "execution_count": 16,
   "id": "0b3d20f1",
   "metadata": {},
   "outputs": [
    {
     "name": "stdout",
     "output_type": "stream",
     "text": [
      "+------------------+\n",
      "|       phoneNumber|\n",
      "+------------------+\n",
      "|{7383627627, home}|\n",
      "+------------------+\n",
      "\n"
     ]
    }
   ],
   "source": [
    "the_exploded_dataframe.select('phoneNumber').show()"
   ]
  },
  {
   "cell_type": "markdown",
   "id": "17b93613-2196-4733-ad38-d7dd60e9d98a",
   "metadata": {},
   "source": [
    "# Edit SQL within python strings\n",
    "## Enjoy the same functionality as a code cell\n",
    "- syntax highlighting\n",
    "- code completion\n",
    "- SQL formatting"
   ]
  },
  {
   "cell_type": "code",
   "execution_count": 17,
   "id": "922cb48c",
   "metadata": {},
   "outputs": [
    {
     "name": "stdout",
     "output_type": "stream",
     "text": [
      "\n",
      "--start-sparksql\n",
      "SELECT\n",
      "    *, \n",
      "    explode(con.phoneNumbers) as phoneNumber\n",
      "FROM\n",
      "    contacts_table AS con\n",
      "--end-sparksql\n",
      "\n"
     ]
    }
   ],
   "source": [
    "# declare a python string\n",
    "sql = '''\n",
    "--start-sparksql\n",
    "SELECT\n",
    "    *, \n",
    "    explode(con.phoneNumbers) as phoneNumber\n",
    "FROM\n",
    "    contacts_table AS con\n",
    "--end-sparksql\n",
    "'''\n",
    "print(sql)"
   ]
  },
  {
   "cell_type": "code",
   "execution_count": 18,
   "id": "a158e7f8",
   "metadata": {},
   "outputs": [
    {
     "name": "stdout",
     "output_type": "stream",
     "text": [
      "+--------------------+---+----------+---------+--------------------+------------------+\n",
      "|             address|age|first Name|last Name|        phoneNumbers|       phoneNumber|\n",
      "+--------------------+---+----------+---------+--------------------+------------------+\n",
      "|{San Jone, 394221...| 24|      Rack|   Jackon|[{7383627627, home}]|{7383627627, home}|\n",
      "+--------------------+---+----------+---------+--------------------+------------------+\n",
      "\n"
     ]
    }
   ],
   "source": [
    "spark.sql(sql).show()"
   ]
  },
  {
   "cell_type": "code",
   "execution_count": 19,
   "id": "99f22aaf",
   "metadata": {},
   "outputs": [
    {
     "data": {
      "text/plain": [
       "\u001b[0;31mDocstring:\u001b[0m\n",
       "::\n",
       "\n",
       "  %sparksql [-l max_rows] [-r all|local|none] [-d name] [-c] [-e]\n",
       "                [-v name] [-o sql|json|html|grid|skip|none]\n",
       "                [sql [sql ...]]\n",
       "\n",
       "Magic that works both as %sparksql and as %%sparksql\n",
       "\n",
       "positional arguments:\n",
       "  sql                   SQL statement to execute\n",
       "\n",
       "optional arguments:\n",
       "  -l max_rows, --limit max_rows\n",
       "                        The maximum number of rows to display. A value of zero\n",
       "                        is equivalent to `--output skip`\n",
       "  -r <all|local|none>, --refresh <all|local|none>\n",
       "                        Force the regeneration of the schema cache file. The\n",
       "                        `local` option will only update tables/views created\n",
       "                        in the local Spark context.\n",
       "  -d name, --dataframe name\n",
       "                        Capture dataframe in a local variable named `name`\n",
       "  -c, --cache           Cache dataframe\n",
       "  -e, --eager           Cache dataframe with eager load\n",
       "  -v name, --view name  Create or replace a temporary view named `name`\n",
       "  -o <sql|json|html|grid|skip|none>, --output <sql|json|html|grid|skip|none>\n",
       "                        Output format. Defaults to html. The `sql` option\n",
       "                        prints the SQL statement that will be executed (useful\n",
       "                        to test jinja templated statements)\n",
       "\u001b[0;31mFile:\u001b[0m      /data/dev/jupyterlab_sql_editor/ipython_magic/sparksql/sparksql.py\n"
      ]
     },
     "metadata": {},
     "output_type": "display_data"
    }
   ],
   "source": [
    "%%sparksql?"
   ]
  },
  {
   "cell_type": "code",
   "execution_count": 20,
   "id": "60a60cd3",
   "metadata": {},
   "outputs": [
    {
     "name": "stdout",
     "output_type": "stream",
     "text": [
      "Generating schema file: /tmp/sparkdb.schema.json\n",
      "Schema file updated: /tmp/sparkdb.schema.json\n",
      "Updating local tables\n"
     ]
    }
   ],
   "source": [
    "%sparksql --refresh all"
   ]
  },
  {
   "cell_type": "code",
   "execution_count": null,
   "id": "a2a4339b-a1f8-4708-86fc-f8b678805f68",
   "metadata": {},
   "outputs": [],
   "source": []
  }
 ],
 "metadata": {
  "kernelspec": {
   "display_name": "Python 3 (ipykernel)",
   "language": "python",
   "name": "python3"
  },
  "language_info": {
   "codemirror_mode": {
    "name": "ipython",
    "version": 3
   },
   "file_extension": ".py",
   "mimetype": "text/x-python",
   "name": "python",
   "nbconvert_exporter": "python",
   "pygments_lexer": "ipython3",
   "version": "3.8.0"
  }
 },
 "nbformat": 4,
 "nbformat_minor": 5
}
